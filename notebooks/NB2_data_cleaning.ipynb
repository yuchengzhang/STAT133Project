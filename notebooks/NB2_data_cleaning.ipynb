{
 "metadata": {
  "name": ""
 },
 "nbformat": 3,
 "nbformat_minor": 0,
 "worksheets": [
  {
   "cells": [
    {
     "cell_type": "markdown",
     "metadata": {},
     "source": [
      "##Team members responsible for this notebook:\n",
      "\n",
      "\n",
      "* team member 1 **Yucheng Zhang** - made expression set and wrote markdown\n",
      "* team member 2 **Renee Rao** - figured out limma and bioconductor\n",
      "* team member 3 **Philip Hong** - helped troubleshoot bioconductor and limma install\n",
      "* team member 4 **Rebeccah Lavelle Terhune** - helped troubleshoot bioconductor and limma install\n"
     ]
    },
    {
     "cell_type": "heading",
     "level": 2,
     "metadata": {},
     "source": [
      "Data Cleaning\n"
     ]
    },
    {
     "cell_type": "markdown",
     "metadata": {},
     "source": [
      "**Load rmagic**"
     ]
    },
    {
     "cell_type": "code",
     "collapsed": false,
     "input": [
      "%load_ext rmagic"
     ],
     "language": "python",
     "metadata": {},
     "outputs": [],
     "prompt_number": 1
    },
    {
     "cell_type": "markdown",
     "metadata": {},
     "source": [
      "**Load Biobase and GEOquery then use getGEO method of GEOquery to load bio_data.soft.gz into data, a S4 object**\n",
      "\n",
      "* the S4 class which is a set of facilities in R provided for object oriented programming, and highly used in bioconductor "
     ]
    },
    {
     "cell_type": "code",
     "collapsed": false,
     "input": [
      "%%R\n",
      "\n",
      "library(Biobase)\n",
      "library(GEOquery)\n",
      "\n",
      "bio_dir = '../data/raw/bio_data.soft.gz'\n",
      "data = getGEO(filename=bio_dir)"
     ],
     "language": "python",
     "metadata": {},
     "outputs": [
      {
       "metadata": {},
       "output_type": "display_data",
       "text": [
        "Loading required package: BiocGenerics\n",
        "Loading required package: parallel\n",
        "\n",
        "Attaching package: \u2018BiocGenerics\u2019\n",
        "\n",
        "The following objects are masked from \u2018package:parallel\u2019:\n",
        "\n",
        "    clusterApply, clusterApplyLB, clusterCall, clusterEvalQ,\n",
        "    clusterExport, clusterMap, parApply, parCapply, parLapply,\n",
        "    parLapplyLB, parRapply, parSapply, parSapplyLB\n",
        "\n",
        "The following object is masked from \u2018package:stats\u2019:\n",
        "\n",
        "    xtabs\n",
        "\n",
        "The following objects are masked from \u2018package:base\u2019:\n",
        "\n",
        "    anyDuplicated, append, as.data.frame, as.vector, cbind, colnames,\n",
        "    duplicated, eval, evalq, Filter, Find, get, intersect, is.unsorted,\n",
        "    lapply, Map, mapply, match, mget, order, paste, pmax, pmax.int,\n",
        "    pmin, pmin.int, Position, rank, rbind, Reduce, rep.int, rownames,\n",
        "    sapply, setdiff, sort, table, tapply, union, unique, unlist\n",
        "\n",
        "Welcome to Bioconductor\n",
        "\n",
        "    Vignettes contain introductory material; view with\n",
        "    'browseVignettes()'. To cite Bioconductor, see\n",
        "    'citation(\"Biobase\")', and for packages 'citation(\"pkgname\")'.\n",
        "\n",
        "Setting options('download.file.method.GEOquery'='curl')\n"
       ]
      }
     ],
     "prompt_number": 2
    },
    {
     "cell_type": "markdown",
     "metadata": {},
     "source": [
      "**Convert data into a bioconductor expression set, also log2 transforms the data**\n",
      "\n",
      "* we need to transform the data into an expression set so that we can use the bioconductor limma package to analyze it"
     ]
    },
    {
     "cell_type": "code",
     "collapsed": false,
     "input": [
      "%%R\n",
      "\n",
      "bio_eset = GDS2eSet(data, do.log2=TRUE)"
     ],
     "language": "python",
     "metadata": {},
     "outputs": [
      {
       "metadata": {},
       "output_type": "display_data",
       "text": [
        "File stored at: \n",
        "/tmp/RtmpFrMQUD/GPL570.annot.gz\n"
       ]
      }
     ],
     "prompt_number": 3
    },
    {
     "cell_type": "markdown",
     "metadata": {},
     "source": [
      "**Make sure that data converted correctly**"
     ]
    },
    {
     "cell_type": "code",
     "collapsed": false,
     "input": [
      "%%R\n",
      "\n",
      "print(bio_eset)"
     ],
     "language": "python",
     "metadata": {},
     "outputs": [
      {
       "metadata": {},
       "output_type": "display_data",
       "text": [
        "ExpressionSet (storageMode: lockedEnvironment)\n",
        "assayData: 54675 features, 76 samples \n",
        "  element names: exprs \n",
        "protocolData: none\n",
        "phenoData\n",
        "  sampleNames: GSM918603 GSM918641 ... GSM918644 (76 total)\n",
        "  varLabels: sample disease.state ... description (5 total)\n",
        "  varMetadata: labelDescription\n",
        "featureData\n",
        "  featureNames: 1007_s_at 1053_at ... AFFX-TrpnX-M_at (54675 total)\n",
        "  fvarLabels: ID Gene title ... GO:Component ID (21 total)\n",
        "  fvarMetadata: Column labelDescription\n",
        "experimentData: use 'experimentData(object)'\n",
        "  pubMedIds: 22722829 \n",
        "Annotation:  \n"
       ]
      }
     ],
     "prompt_number": 4
    },
    {
     "cell_type": "markdown",
     "metadata": {},
     "source": [
      "**A further check to make sure data converted correctly, retrieved the data for gene 1007_s_at of subject GSM918603**"
     ]
    },
    {
     "cell_type": "code",
     "collapsed": false,
     "input": [
      "%%R\n",
      "\n",
      "print(bio_eset[\"1007_s_at\", \"GSM918603\"])"
     ],
     "language": "python",
     "metadata": {},
     "outputs": [
      {
       "metadata": {},
       "output_type": "display_data",
       "text": [
        "ExpressionSet (storageMode: lockedEnvironment)\n",
        "assayData: 1 features, 1 samples \n",
        "  element names: exprs \n",
        "protocolData: none\n",
        "phenoData\n",
        "  sampleNames: GSM918603\n",
        "  varLabels: sample disease.state ... description (5 total)\n",
        "  varMetadata: labelDescription\n",
        "featureData\n",
        "  featureNames: 1007_s_at\n",
        "  fvarLabels: ID Gene title ... GO:Component ID (21 total)\n",
        "  fvarMetadata: Column labelDescription\n",
        "experimentData: use 'experimentData(object)'\n",
        "  pubMedIds: 22722829 \n",
        "Annotation:  \n"
       ]
      }
     ],
     "prompt_number": 5
    }
   ],
   "metadata": {}
  }
 ]
}