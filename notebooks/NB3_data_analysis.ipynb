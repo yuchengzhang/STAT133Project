{
 "metadata": {
  "name": ""
 },
 "nbformat": 3,
 "nbformat_minor": 0,
 "worksheets": [
  {
   "cells": [
    {
     "cell_type": "markdown",
     "metadata": {},
     "source": [
      "##Team members responsible for this notebook:\n",
      "\n",
      "* Team member 1: **Yucheng Zhang** - found differentially expressed genes between male and female and helped with heatmaps, analyzed differential gene expression across subgroups to find different which if any of the subgroups are dependent on gender\n",
      "\n",
      "\n",
      "* Team member 2: **Renee Rao** - found differentially expressed genes between male and female and helped with heatmaps\n",
      "\n",
      "\n",
      "* Team member 3: **Rebeccah Lavelle Terhune** - found differentially expressed genes between male and female and helped with heatmaps\n",
      "\n",
      "\n",
      "* Team member 4: **Philip Hong** - found differentially expressed genes between male and female and helped with heatmaps\n"
     ]
    },
    {
     "cell_type": "heading",
     "level": 1,
     "metadata": {},
     "source": [
      "Data Analysis"
     ]
    },
    {
     "cell_type": "markdown",
     "metadata": {},
     "source": [
      "We found it interesting that the author classified patients based on gender. So we are going to look for differentially expressed genes across male and female patients. Then we are going to try to locate the gene cluster that is responsible for the gender differences by finding the genes that are differentially expressed based on disease state out of the genes we already know are differentially expressed based on gender."
     ]
    },
    {
     "cell_type": "markdown",
     "metadata": {},
     "source": [
      "**Load rmagic**"
     ]
    },
    {
     "cell_type": "code",
     "collapsed": false,
     "input": [
      "%load_ext rmagic"
     ],
     "language": "python",
     "metadata": {},
     "outputs": [],
     "prompt_number": 2
    },
    {
     "cell_type": "heading",
     "level": 2,
     "metadata": {},
     "source": [
      "Loading the Data\n",
      "\n"
     ]
    },
    {
     "cell_type": "markdown",
     "metadata": {},
     "source": [
      "In this cell we load **<code>pvca</code>** in order to be able to load our saved expression set object that is stored in bio_eset.Rda."
     ]
    },
    {
     "cell_type": "code",
     "collapsed": false,
     "input": [
      "%%R\n",
      "\n",
      "library(pvca)\n",
      "\n",
      "load(\"../data/cleaned/bio_eset.Rda\")"
     ],
     "language": "python",
     "metadata": {},
     "outputs": [],
     "prompt_number": 3
    },
    {
     "cell_type": "markdown",
     "metadata": {},
     "source": [
      "We print <code>bio_eset</code> to check that the expression set loaded correctly (ie nothing was added, deleted, or corrupted)."
     ]
    },
    {
     "cell_type": "code",
     "collapsed": false,
     "input": [
      "%%R\n",
      "\n",
      "print(bio_eset)"
     ],
     "language": "python",
     "metadata": {},
     "outputs": [
      {
       "metadata": {},
       "output_type": "display_data",
       "text": [
        "ExpressionSet (storageMode: lockedEnvironment)\n",
        "assayData: 54675 features, 76 samples \n",
        "  element names: exprs \n",
        "protocolData: none\n",
        "phenoData\n",
        "  sampleNames: GSM918603 GSM918641 ... GSM918644 (76 total)\n",
        "  varLabels: sample disease.state ... description (5 total)\n",
        "  varMetadata: labelDescription\n",
        "featureData\n",
        "  featureNames: 1007_s_at 1053_at ... AFFX-TrpnX-M_at (54675 total)\n",
        "  fvarLabels: ID Gene title ... GO:Component ID (21 total)\n",
        "  fvarMetadata: Column labelDescription\n",
        "experimentData: use 'experimentData(object)'\n",
        "  pubMedIds: 22722829 \n",
        "Annotation:  \n"
       ]
      }
     ],
     "prompt_number": 3
    },
    {
     "cell_type": "heading",
     "level": 2,
     "metadata": {},
     "source": [
      "Looking for differentially expressed genes between male and female patients."
     ]
    },
    {
     "cell_type": "markdown",
     "metadata": {},
     "source": [
      "We created a gender expression set by taking expression data tied to the gender label from the original expression set. "
     ]
    },
    {
     "cell_type": "code",
     "collapsed": false,
     "input": [
      "%%R\n",
      "\n",
      "gender_eset = bio_eset[, bio_eset$gender %in% c('female', 'male')]"
     ],
     "language": "python",
     "metadata": {},
     "outputs": [],
     "prompt_number": 4
    },
    {
     "cell_type": "markdown",
     "metadata": {},
     "source": [
      "**<code>limma</code>** is a Bioconductor package that helps analyze expression sets and find differentially expressed genes. "
     ]
    },
    {
     "cell_type": "code",
     "collapsed": false,
     "input": [
      "%%R\n",
      "\n",
      "source(\"http://www.bioconductor.org/biocLite.R\")\n",
      "biocLite(\"limma\")"
     ],
     "language": "python",
     "metadata": {},
     "outputs": [],
     "prompt_number": "*"
    },
    {
     "cell_type": "markdown",
     "metadata": {},
     "source": [
      "Load the **<code>limma</code>** package in order to compare differentially expressed genes between male and female. \n",
      "\n",
      "We first created a design matrix containing the female demographic data, we will be comparing female to male. We then ran **<code>lmFit</code>**, which will attempt to fit a linear model to the male and female expression data. Afer that we ran **<code>eBayes</code>** on the regression data to produce a Bayes test statistic for each gene, **<code>eBayes</code>** tests to see if differences in gene expression are statistically significant. \n",
      "\n",
      "*NOTE*: The **<code>limma</code>** package requires **<code>Biobase</code>** and **<code>GEOquery</code>** so we loaded them first. "
     ]
    },
    {
     "cell_type": "code",
     "collapsed": false,
     "input": [
      "%%R\n",
      "\n",
      "library(limma)\n",
      "library(Biobase)\n",
      "library(GEOquery)\n",
      "\n",
      "f = factor(as.character(gender_eset$gender))\n",
      "design = model.matrix(~f)\n",
      "fit = eBayes(lmFit(gender_eset, design))"
     ],
     "language": "python",
     "metadata": {},
     "outputs": [
      {
       "metadata": {},
       "output_type": "display_data",
       "text": [
        "Loading required package: BiocGenerics\n",
        "Loading required package: parallel\n",
        "\n",
        "Attaching package: \u2018BiocGenerics\u2019\n",
        "\n",
        "The following objects are masked from \u2018package:parallel\u2019:\n",
        "\n",
        "    clusterApply, clusterApplyLB, clusterCall, clusterEvalQ,\n",
        "    clusterExport, clusterMap, parApply, parCapply, parLapply,\n",
        "    parLapplyLB, parRapply, parSapply, parSapplyLB\n",
        "\n",
        "The following object is masked from \u2018package:limma\u2019:\n",
        "\n",
        "    plotMA\n",
        "\n",
        "The following object is masked from \u2018package:stats\u2019:\n",
        "\n",
        "    xtabs\n",
        "\n",
        "The following objects are masked from \u2018package:base\u2019:\n",
        "\n",
        "    anyDuplicated, append, as.data.frame, as.vector, cbind, colnames,\n",
        "    duplicated, eval, evalq, Filter, Find, get, intersect, is.unsorted,\n",
        "    lapply, Map, mapply, match, mget, order, paste, pmax, pmax.int,\n",
        "    pmin, pmin.int, Position, rank, rbind, Reduce, rep.int, rownames,\n",
        "    sapply, setdiff, sort, table, tapply, union, unique, unlist\n",
        "\n",
        "Welcome to Bioconductor\n",
        "\n",
        "    Vignettes contain introductory material; view with\n",
        "    'browseVignettes()'. To cite Bioconductor, see\n",
        "    'citation(\"Biobase\")', and for packages 'citation(\"pkgname\")'.\n",
        "\n",
        "Setting options('download.file.method.GEOquery'='curl')\n"
       ]
      }
     ],
     "prompt_number": 5
    },
    {
     "cell_type": "markdown",
     "metadata": {},
     "source": [
      "Let's take a look at our p values to get a rough feel of how many genes are differentially expressed and to make sure there were no anomalies present in our analysis."
     ]
    },
    {
     "cell_type": "code",
     "collapsed": false,
     "input": [
      "%%R\n",
      "\n",
      "print(head(fit$p.value, n=100))"
     ],
     "language": "python",
     "metadata": {},
     "outputs": [
      {
       "metadata": {},
       "output_type": "display_data",
       "text": [
        "               (Intercept)       fmale\n",
        "1007_s_at     3.684698e-96 0.494441258\n",
        "1053_at       1.204005e-98 0.968268262\n",
        "117_at        1.207894e-60 0.160543191\n",
        "121_at       1.178252e-100 0.339075360\n",
        "1255_g_at     1.742191e-47 0.261355840\n",
        "1294_at       1.031788e-82 0.837564694\n",
        "1316_at       3.841029e-90 0.121921964\n",
        "1320_at       8.587758e-58 0.911820549\n",
        "1405_i_at     1.747357e-57 0.096495756\n",
        "1431_at       1.156126e-73 0.994841865\n",
        "1438_at       1.331318e-56 0.999574085\n",
        "1487_at      5.142699e-100 0.545845240\n",
        "1494_f_at     5.977588e-84 0.438535932\n",
        "1552256_a_at  1.259114e-85 0.744817190\n",
        "1552257_a_at 3.151511e-102 0.222135123\n",
        "1552258_at    2.486251e-59 0.339776776\n",
        "1552261_at    1.716053e-60 0.742557552\n",
        "1552263_at    2.929293e-67 0.654460581\n",
        "1552264_a_at  6.367815e-74 0.403199680\n",
        "1552266_at    1.772813e-64 0.133704873\n",
        "1552269_at    7.773445e-57 0.553211199\n",
        "1552271_at    3.480873e-65 0.724194776\n",
        "1552272_a_at  1.767998e-77 0.791116175\n",
        "1552274_at    8.780909e-88 0.001115173\n",
        "1552275_s_at  5.016017e-69 0.170908569\n",
        "1552276_a_at  1.923857e-58 0.697741268\n",
        "1552277_a_at 4.647645e-104 0.594389934\n",
        "1552278_a_at  4.889051e-68 0.695719500\n",
        "1552279_a_at  1.085904e-96 0.833361153\n",
        "1552280_at    2.801442e-60 0.861090276\n",
        "1552281_at    2.703859e-66 0.136722820\n",
        "1552283_s_at  5.528437e-55 0.390195156\n",
        "1552286_at    2.543169e-77 0.307448304\n",
        "1552287_s_at 1.626349e-103 0.620994058\n",
        "1552288_at    9.680355e-60 0.012352378\n",
        "1552289_a_at  1.053759e-56 0.053120114\n",
        "1552291_at    1.298506e-88 0.972084897\n",
        "1552293_at    1.539053e-57 0.154590430\n",
        "1552295_a_at  1.013893e-93 0.817211914\n",
        "1552296_at    5.129671e-60 0.452250154\n",
        "1552299_at    1.703985e-67 0.037041891\n",
        "1552301_a_at  3.171209e-77 0.057634278\n",
        "1552302_at    6.317546e-72 0.634353248\n",
        "1552303_a_at  8.216360e-82 0.687715742\n",
        "1552304_at    4.526709e-59 0.534398874\n",
        "1552306_at    1.368515e-66 0.637363624\n",
        "1552307_a_at  1.364925e-64 0.358258799\n",
        "1552309_a_at  1.672349e-71 0.498805426\n",
        "1552310_at   6.255169e-108 0.290483680\n",
        "1552311_a_at  6.134959e-64 0.715610719\n",
        "1552312_a_at  9.310446e-62 0.429777677\n",
        "1552314_a_at  3.787048e-61 0.820538062\n",
        "1552315_at    4.026137e-64 0.543232371\n",
        "1552316_a_at  1.096853e-60 0.508322056\n",
        "1552318_at    1.277853e-65 0.216551619\n",
        "1552319_a_at  9.246226e-58 0.457883844\n",
        "1552320_a_at  1.297832e-64 0.758509260\n",
        "1552321_a_at  7.201916e-59 0.950696051\n",
        "1552322_at    4.565518e-62 0.307487146\n",
        "1552323_s_at  5.464770e-73 0.864109411\n",
        "1552325_at    2.925586e-63 0.791963211\n",
        "1552326_a_at  2.425053e-67 0.980520349\n",
        "1552327_at    8.740140e-75 0.860686364\n",
        "1552329_at    5.451798e-88 0.011082434\n",
        "1552330_at    3.807140e-89 0.407432123\n",
        "1552332_at    1.130138e-67 0.106119687\n",
        "1552334_at    9.072290e-79 0.042475177\n",
        "1552335_at    3.005364e-62 0.563683164\n",
        "1552337_s_at  5.703504e-50 0.320691688\n",
        "1552338_at    1.184271e-87 0.886206519\n",
        "1552340_at    6.377711e-64 0.185982387\n",
        "1552343_s_at  4.698475e-94 0.555559705\n",
        "1552344_s_at  4.495527e-69 0.940370231\n",
        "1552347_at   1.980669e-110 0.369781179\n",
        "1552348_at    2.771034e-55 0.034398771\n",
        "1552349_a_at  2.213877e-60 0.021779816\n",
        "1552354_at    1.770582e-71 0.053892619\n",
        "1552355_s_at  1.454638e-67 0.339111889\n",
        "1552359_at    1.365745e-57 0.918851716\n",
        "1552360_a_at  3.549273e-85 0.790135682\n",
        "1552362_a_at  1.293095e-99 0.143768772\n",
        "1552364_s_at  1.343609e-73 0.219020074\n",
        "1552365_at    3.183049e-62 0.087205937\n",
        "1552367_a_at  1.453556e-54 0.027880802\n",
        "1552368_at    3.267074e-49 0.637915295\n",
        "1552370_at    1.233494e-75 0.001979391\n",
        "1552372_at    6.929694e-61 0.704269302\n",
        "1552373_s_at  1.200399e-61 0.219154769\n",
        "1552375_at    4.827133e-92 0.603341329\n",
        "1552377_s_at  1.986712e-70 0.656577186\n",
        "1552378_s_at  1.652413e-48 0.363020387\n",
        "1552379_at    1.430173e-62 0.781323635\n",
        "1552381_at    1.470107e-70 0.079329855\n",
        "1552383_at    1.194771e-62 0.633280664\n",
        "1552384_a_at  6.414467e-60 0.240658321\n",
        "1552386_at    4.133584e-58 0.917295539\n",
        "1552388_at    2.660547e-51 0.912941815\n",
        "1552389_at    6.627901e-58 0.389244215\n",
        "1552390_a_at  8.906066e-55 0.620217102\n",
        "1552391_at    4.561107e-60 0.217401699\n"
       ]
      }
     ],
     "prompt_number": 6
    },
    {
     "cell_type": "markdown",
     "metadata": {},
     "source": [
      "Because we have many data points we only choose genes at the 0.01 significance level."
     ]
    },
    {
     "cell_type": "code",
     "collapsed": false,
     "input": [
      "%%R\n",
      "\n",
      "selected = p.adjust(fit$p.value[, 2]) < 0.01\n",
      "eset_selected = gender_eset[selected, ] "
     ],
     "language": "python",
     "metadata": {},
     "outputs": [],
     "prompt_number": 7
    },
    {
     "cell_type": "markdown",
     "metadata": {},
     "source": [
      "The heatmap function native to R does not allow us to create a color key for our heatmap so we need to install the **<code>gplots</code>** package of Bioconductor so that we can use the fucntion **<code>heatmap.2</code>** to give a key to our heatmap as well as generate a heatmap."
     ]
    },
    {
     "cell_type": "code",
     "collapsed": false,
     "input": [
      " %%R\n",
      "\n",
      "source(\"http://www.bioconductor.org/biocLite.R\")\n",
      "biocLite(\"gplots\")"
     ],
     "language": "python",
     "metadata": {},
     "outputs": []
    },
    {
     "cell_type": "markdown",
     "metadata": {},
     "source": [
      "We load **<code>gplots</code>** in order to access **<code>heatmap.2</code>** which will let us add the key. Before doing that, we write the function **<code>color.map</code>** which will display a block of color above the heatmap that denotes gender, red being male, and blue being female. \n",
      "\n",
      "After creating the heatmap, we save it as a .png file into **<code>../visualizations</code>**."
     ]
    },
    {
     "cell_type": "code",
     "collapsed": false,
     "input": [
      "%%R\n",
      "\n",
      "library(gplots)\n",
      "\n",
      "color.map = function(gender){ if(gender==\"female\") \"#FF0000\" else \"#0000FF\" }\n",
      "patientcolors = unlist(lapply(eset_selected$gender, color.map))\n",
      "    \n",
      "png(file = \"../visualizations/malefemale.png\")\n",
      "heatmap.2(exprs(eset_selected), col=topo.colors(100), scale=\"none\", ColSideColors=patientcolors,\n",
      "          key=TRUE, symkey=FALSE, density.info=\"none\", trace=\"none\", cexRow=.9, xlab='Patients', ylab='Genes', offsetRow=-0.5, offsetCol=-0.5, main='Male vs. Female Gene Expression')\n",
      "dev.off()"
     ],
     "language": "python",
     "metadata": {},
     "outputs": [
      {
       "metadata": {},
       "output_type": "display_data",
       "text": [
        "KernSmooth 2.23 loaded\n",
        "Copyright M. P. Wand 1997-2009\n",
        "\n",
        "Attaching package: \u2018gplots\u2019\n",
        "\n",
        "The following object is masked from \u2018package:stats\u2019:\n",
        "\n",
        "    lowess\n",
        "\n"
       ]
      }
     ],
     "prompt_number": 8
    },
    {
     "cell_type": "markdown",
     "metadata": {},
     "source": [
      "We used the **<code>Image</code>** function from **<code>IPython.core</code>** to display the image, we set <code>width</code> to 485 to prevent the image from scaling down everytime Ipython notebook is run."
     ]
    },
    {
     "cell_type": "code",
     "collapsed": false,
     "input": [
      "from IPython.core.display import Image\n",
      "Image(filename=\"../visualizations/malefemale.png\", width=485)"
     ],
     "language": "python",
     "metadata": {},
     "outputs": [
      {
       "metadata": {
        "png": {
         "width": 485
        }
       },
       "output_type": "pyout",
       "png": "[encoded data removed]",
       "prompt_number": 9,
       "text": [
        "<IPython.core.display.Image at 0x198cc50>"
       ]
      }
     ],
     "prompt_number": 9
    },
    {
     "cell_type": "heading",
     "level": 2,
     "metadata": {},
     "source": [
      "Finding genes that are differentially expressed based on disease state out of the genes we already know are differentially expressed based on gender."
     ]
    },
    {
     "cell_type": "markdown",
     "metadata": {},
     "source": [
      "We check that **<code>eset_selected</code>** has only the 34 differentially expressed genes we found in our above analysis."
     ]
    },
    {
     "cell_type": "code",
     "collapsed": false,
     "input": [
      "%%R\n",
      "\n",
      "print(eset_selected)"
     ],
     "language": "python",
     "metadata": {},
     "outputs": [
      {
       "metadata": {},
       "output_type": "display_data",
       "text": [
        "ExpressionSet (storageMode: lockedEnvironment)\n",
        "assayData: 34 features, 76 samples \n",
        "  element names: exprs \n",
        "protocolData: none\n",
        "phenoData\n",
        "  sampleNames: GSM918603 GSM918641 ... GSM918644 (76 total)\n",
        "  varLabels: sample disease.state ... description (5 total)\n",
        "  varMetadata: labelDescription\n",
        "featureData\n",
        "  featureNames: 1560395_at 1566854_at ... 244482_at (34 total)\n",
        "  fvarLabels: ID Gene title ... GO:Component ID (21 total)\n",
        "  fvarMetadata: Column labelDescription\n",
        "experimentData: use 'experimentData(object)'\n",
        "  pubMedIds: 22722829 \n",
        "Annotation:  \n"
       ]
      }
     ],
     "prompt_number": 10
    },
    {
     "cell_type": "markdown",
     "metadata": {},
     "source": [
      "Looking at our data we notice there are outliers and people who do not fall into a specific disease state, we don't care about them because no matter which subgroup we compare them to they will always have differentially expressed genes. Furthermore because we are interested in differentially expressed genes across subgroups it does not make sense to include patients who do not fit into a subgroup in our analysis.\n",
      "\n",
      "Thus, we only take subgroups WNT, SHH, G3, and G4."
     ]
    },
    {
     "cell_type": "code",
     "collapsed": false,
     "input": [
      "%%R\n",
      "\n",
      "print(eset_selected$disease.state)"
     ],
     "language": "python",
     "metadata": {},
     "outputs": [
      {
       "metadata": {},
       "output_type": "display_data",
       "text": [
        " [1] subgroup: WNT         subgroup: WNT         subgroup: WNT        \n",
        " [4] subgroup: WNT         subgroup: WNT         subgroup: WNT        \n",
        " [7] subgroup: WNT         subgroup: WNT         subgroup: SHH        \n",
        "[10] subgroup: SHH         subgroup: SHH         subgroup: SHH        \n",
        "[13] subgroup: SHH         subgroup: SHH         subgroup: SHH        \n",
        "[16] subgroup: SHH         subgroup: SHH         subgroup: SHH        \n",
        "[19] subgroup: SHH outlier subgroup: G3          subgroup: G3         \n",
        "[22] subgroup: G3          subgroup: G3          subgroup: G3         \n",
        "[25] subgroup: G3          subgroup: G3          subgroup: G3         \n",
        "[28] subgroup: G3          subgroup: G3          subgroup: G3         \n",
        "[31] subgroup: G3          subgroup: G3          subgroup: G3         \n",
        "[34] subgroup: G3          subgroup: G3          subgroup: G4         \n",
        "[37] subgroup: G4          subgroup: G4          subgroup: G4         \n",
        "[40] subgroup: G4          subgroup: G4          subgroup: G4         \n",
        "[43] subgroup: G4          subgroup: G4          subgroup: G4         \n",
        "[46] subgroup: G4          subgroup: G4          subgroup: G4         \n",
        "[49] subgroup: G4          subgroup: G4          subgroup: G4         \n",
        "[52] subgroup: G4          subgroup: G4          subgroup: G4         \n",
        "[55] subgroup: G4          subgroup: G4          subgroup: G4         \n",
        "[58] subgroup: G4          subgroup: G4          subgroup: G4         \n",
        "[61] subgroup: G4          subgroup: G4          subgroup: G4         \n",
        "[64] subgroup: G4          subgroup: G4          subgroup: G4         \n",
        "[67] subgroup: G4          subgroup: G4          subgroup: G4         \n",
        "[70] subgroup: G4          subgroup: G4          subgroup: G4         \n",
        "[73] subgroup: G4          subgroup: G4          subgroup: N/A        \n",
        "[76] subgroup: N/A        \n",
        "6 Levels: subgroup: G3 subgroup: G4 subgroup: N/A ... subgroup: WNT\n"
       ]
      }
     ],
     "prompt_number": 11
    },
    {
     "cell_type": "code",
     "collapsed": false,
     "input": [
      "%%R\n",
      "\n",
      "gender_disease_eset = eset_selected[, eset_selected$disease.state %in% c('subgroup: WNT', 'subgroup: SHH', 'subgroup: G3', 'subgroup: G4')]"
     ],
     "language": "python",
     "metadata": {},
     "outputs": [],
     "prompt_number": 12
    },
    {
     "cell_type": "markdown",
     "metadata": {},
     "source": [
      "Check that we only got the disease state groups we wanted, that we successfully eliminated <code>SHH outlier</code> and <code>N/A</code>."
     ]
    },
    {
     "cell_type": "code",
     "collapsed": false,
     "input": [
      "%%R\n",
      "\n",
      "print(eset_selected$disease.state[-c(19, 75, 76)])"
     ],
     "language": "python",
     "metadata": {},
     "outputs": [
      {
       "metadata": {},
       "output_type": "display_data",
       "text": [
        " [1] subgroup: WNT subgroup: WNT subgroup: WNT subgroup: WNT subgroup: WNT\n",
        " [6] subgroup: WNT subgroup: WNT subgroup: WNT subgroup: SHH subgroup: SHH\n",
        "[11] subgroup: SHH subgroup: SHH subgroup: SHH subgroup: SHH subgroup: SHH\n",
        "[16] subgroup: SHH subgroup: SHH subgroup: SHH subgroup: G3  subgroup: G3 \n",
        "[21] subgroup: G3  subgroup: G3  subgroup: G3  subgroup: G3  subgroup: G3 \n",
        "[26] subgroup: G3  subgroup: G3  subgroup: G3  subgroup: G3  subgroup: G3 \n",
        "[31] subgroup: G3  subgroup: G3  subgroup: G3  subgroup: G3  subgroup: G4 \n",
        "[36] subgroup: G4  subgroup: G4  subgroup: G4  subgroup: G4  subgroup: G4 \n",
        "[41] subgroup: G4  subgroup: G4  subgroup: G4  subgroup: G4  subgroup: G4 \n",
        "[46] subgroup: G4  subgroup: G4  subgroup: G4  subgroup: G4  subgroup: G4 \n",
        "[51] subgroup: G4  subgroup: G4  subgroup: G4  subgroup: G4  subgroup: G4 \n",
        "[56] subgroup: G4  subgroup: G4  subgroup: G4  subgroup: G4  subgroup: G4 \n",
        "[61] subgroup: G4  subgroup: G4  subgroup: G4  subgroup: G4  subgroup: G4 \n",
        "[66] subgroup: G4  subgroup: G4  subgroup: G4  subgroup: G4  subgroup: G4 \n",
        "[71] subgroup: G4  subgroup: G4  subgroup: G4 \n",
        "6 Levels: subgroup: G3 subgroup: G4 subgroup: N/A ... subgroup: WNT\n"
       ]
      }
     ],
     "prompt_number": 13
    },
    {
     "cell_type": "markdown",
     "metadata": {},
     "source": [
      "Let's do a cursory inspection of the population data to see if male and female patients appear to be grouped in any way by disease state. To this end we separate out the population into male and female and then print disease states for male and disease for female. "
     ]
    },
    {
     "cell_type": "code",
     "collapsed": false,
     "input": [
      "%%R\n",
      "\n",
      "males = eset_selected[, eset_selected$gender == 'male']\n",
      "males = males[, males$disease.state %in% c('subgroup: WNT', 'subgroup: SHH', 'subgroup: G3', 'subgroup: G4')]\n",
      "\n",
      "females = eset_selected[, eset_selected$gender == 'female']\n",
      "females = females[, females$disease.state %in% c('subgroup: WNT', 'subgroup: SHH', 'subgroup: G3', 'subgroup: G4')]"
     ],
     "language": "python",
     "metadata": {},
     "outputs": [],
     "prompt_number": 14
    },
    {
     "cell_type": "code",
     "collapsed": false,
     "input": [
      "%%R\n",
      "\n",
      "print(gender_disease_eset$disease.state)"
     ],
     "language": "python",
     "metadata": {},
     "outputs": [
      {
       "metadata": {},
       "output_type": "display_data",
       "text": [
        " [1] subgroup: WNT subgroup: WNT subgroup: WNT subgroup: WNT subgroup: WNT\n",
        " [6] subgroup: WNT subgroup: WNT subgroup: WNT subgroup: SHH subgroup: SHH\n",
        "[11] subgroup: SHH subgroup: SHH subgroup: SHH subgroup: SHH subgroup: SHH\n",
        "[16] subgroup: SHH subgroup: SHH subgroup: SHH subgroup: G3  subgroup: G3 \n",
        "[21] subgroup: G3  subgroup: G3  subgroup: G3  subgroup: G3  subgroup: G3 \n",
        "[26] subgroup: G3  subgroup: G3  subgroup: G3  subgroup: G3  subgroup: G3 \n",
        "[31] subgroup: G3  subgroup: G3  subgroup: G3  subgroup: G3  subgroup: G4 \n",
        "[36] subgroup: G4  subgroup: G4  subgroup: G4  subgroup: G4  subgroup: G4 \n",
        "[41] subgroup: G4  subgroup: G4  subgroup: G4  subgroup: G4  subgroup: G4 \n",
        "[46] subgroup: G4  subgroup: G4  subgroup: G4  subgroup: G4  subgroup: G4 \n",
        "[51] subgroup: G4  subgroup: G4  subgroup: G4  subgroup: G4  subgroup: G4 \n",
        "[56] subgroup: G4  subgroup: G4  subgroup: G4  subgroup: G4  subgroup: G4 \n",
        "[61] subgroup: G4  subgroup: G4  subgroup: G4  subgroup: G4  subgroup: G4 \n",
        "[66] subgroup: G4  subgroup: G4  subgroup: G4  subgroup: G4  subgroup: G4 \n",
        "[71] subgroup: G4  subgroup: G4  subgroup: G4 \n",
        "6 Levels: subgroup: G3 subgroup: G4 subgroup: N/A ... subgroup: WNT\n"
       ]
      }
     ],
     "prompt_number": 15
    },
    {
     "cell_type": "markdown",
     "metadata": {},
     "source": [
      "From our inspection, it looks like only one female is in G3 while only a few males are in WNT, so let's test for differential gene expression out of differentially expressed genes based on gender on G3."
     ]
    },
    {
     "cell_type": "code",
     "collapsed": false,
     "input": [
      "%%R\n",
      "\n",
      "print(females$disease.state)\n",
      "print(males$disease.state)"
     ],
     "language": "python",
     "metadata": {},
     "outputs": [
      {
       "metadata": {},
       "output_type": "display_data",
       "text": [
        " [1] subgroup: WNT subgroup: WNT subgroup: WNT subgroup: WNT subgroup: WNT\n",
        " [6] subgroup: WNT subgroup: SHH subgroup: SHH subgroup: SHH subgroup: SHH\n",
        "[11] subgroup: SHH subgroup: G3  subgroup: G4  subgroup: G4  subgroup: G4 \n",
        "[16] subgroup: G4  subgroup: G4  subgroup: G4  subgroup: G4  subgroup: G4 \n",
        "[21] subgroup: G4 \n",
        "6 Levels: subgroup: G3 subgroup: G4 subgroup: N/A ... subgroup: WNT\n",
        " [1] subgroup: WNT subgroup: WNT subgroup: SHH subgroup: SHH subgroup: SHH\n",
        " [6] subgroup: SHH subgroup: SHH subgroup: G3  subgroup: G3  subgroup: G3 \n",
        "[11] subgroup: G3  subgroup: G3  subgroup: G3  subgroup: G3  subgroup: G3 \n",
        "[16] subgroup: G3  subgroup: G3  subgroup: G3  subgroup: G3  subgroup: G3 \n",
        "[21] subgroup: G3  subgroup: G3  subgroup: G4  subgroup: G4  subgroup: G4 \n",
        "[26] subgroup: G4  subgroup: G4  subgroup: G4  subgroup: G4  subgroup: G4 \n",
        "[31] subgroup: G4  subgroup: G4  subgroup: G4  subgroup: G4  subgroup: G4 \n",
        "[36] subgroup: G4  subgroup: G4  subgroup: G4  subgroup: G4  subgroup: G4 \n",
        "[41] subgroup: G4  subgroup: G4  subgroup: G4  subgroup: G4  subgroup: G4 \n",
        "[46] subgroup: G4  subgroup: G4  subgroup: G4  subgroup: G4  subgroup: G4 \n",
        "[51] subgroup: G4  subgroup: G4 \n",
        "6 Levels: subgroup: G3 subgroup: G4 subgroup: N/A ... subgroup: WNT\n"
       ]
      }
     ],
     "prompt_number": 16
    },
    {
     "cell_type": "markdown",
     "metadata": {},
     "source": [
      "In the next cell we are comparing subgroups WNT, SHH, and G4 to G3 in order to find differentially expressed genes based on disease state subgroups for genes that we already know are differentially expressed based on gender.\n",
      "\n",
      "To this end we create a design matrix with factors WNT, G4, and SHH and then use **<code>lmFit</code>** to find a linear regression model that will describe the relationship between WNT, G4, SHH, and G3. We then use the **<code>eBayes</code>** model to rank genes in order of evidence for differential expression, eBayes tests to see if differences in genes expression are statistically significant."
     ]
    },
    {
     "cell_type": "code",
     "collapsed": false,
     "input": [
      "%%R\n",
      "\n",
      "f_1 = factor(as.character(eset_selected$disease.state[-c(19, 75, 76)])) \n",
      "design_1 = model.matrix(~f_1)\n",
      "fit_1 = eBayes(lmFit(gender_disease_eset, design_1))"
     ],
     "language": "python",
     "metadata": {},
     "outputs": [],
     "prompt_number": 17
    },
    {
     "cell_type": "markdown",
     "metadata": {},
     "source": [
      "**Taking a look at our p values**\n",
      "\n",
      "As expected patients in the WNT subgroup seemed to have the most differentially expressed genes when compared to the G3 subgroup, suggesting that the WNT and G3 subgroups of medulloblastomas are linked to gender."
     ]
    },
    {
     "cell_type": "code",
     "collapsed": false,
     "input": [
      "%%R\n",
      "\n",
      "print(fit_1$p.value)"
     ],
     "language": "python",
     "metadata": {},
     "outputs": [
      {
       "metadata": {},
       "output_type": "display_data",
       "text": [
        "              (Intercept) f_1subgroup: G4 f_1subgroup: SHH f_1subgroup: WNT\n",
        "1560395_at   4.005395e-38     0.735027016     0.4244165366     1.710004e-02\n",
        "1566854_at   1.985141e-47     0.345950789     0.3125111281     4.067301e-02\n",
        "1570360_s_at 1.269840e-49     0.039577706     0.0793789965     5.138496e-02\n",
        "201909_at    2.795608e-35     0.069060716     0.0224695683     7.698786e-03\n",
        "204409_s_at  3.215491e-36     0.460977207     0.2252031680     6.116624e-03\n",
        "204410_at    1.319058e-40     0.552116021     0.4358933257     8.332679e-02\n",
        "205000_at    4.963115e-36     0.154697217     0.0216673415     5.757388e-04\n",
        "205001_s_at  7.609769e-44     0.036223928     0.0181876767     3.733580e-03\n",
        "206279_at    5.266847e-62     0.178096589     0.3020459120     5.255883e-05\n",
        "206624_at    2.055731e-35     0.084327476     0.0377538041     2.125603e-03\n",
        "206700_s_at  1.220665e-39     0.086117291     0.0098090409     5.006182e-04\n",
        "207063_at    5.438822e-35     0.454965208     0.9104867625     7.005482e-02\n",
        "207703_at    1.154904e-45     0.065550332     0.1573795723     5.070693e-03\n",
        "211149_at    2.430749e-44     0.154869530     0.0422687045     1.020919e-03\n",
        "214131_at    3.406750e-42     0.022358691     0.0049610308     3.446798e-04\n",
        "214218_s_at  6.274972e-28     0.495853869     0.0154463544     1.487060e-03\n",
        "214983_at    5.625261e-44     0.244112642     0.1584935151     5.761339e-03\n",
        "216260_at    4.712357e-62     0.133939920     0.0001107971     1.753959e-06\n",
        "221728_x_at  3.017902e-27     0.179165501     0.0019383744     8.267046e-05\n",
        "223645_s_at  2.627711e-48     0.001721504     0.0199450484     1.466057e-02\n",
        "223646_s_at  2.745165e-43     0.034781276     0.0850386589     1.042041e-02\n",
        "224293_at    2.399645e-45     0.203966715     0.2668466231     2.898426e-02\n",
        "224588_at    3.759352e-24     0.475365952     0.0611578612     1.259112e-03\n",
        "224589_at    1.181106e-30     0.563221555     0.0006893733     9.228135e-04\n",
        "224590_at    3.258870e-27     0.810939986     0.0036595854     2.914467e-04\n",
        "227671_at    9.434920e-29     0.501769697     0.0104093736     4.325689e-04\n",
        "228492_at    2.379670e-39     0.124796194     0.0175178787     3.602333e-04\n",
        "230760_at    1.108507e-43     0.063018817     0.0403166784     4.179014e-03\n",
        "231592_at    2.590074e-42     0.538673033     0.0511863434     2.083917e-02\n",
        "232618_at    3.224408e-45     0.010286718     0.0018324806     2.569875e-03\n",
        "235446_at    5.776520e-51     0.897463726     0.0395608978     1.015986e-03\n",
        "236694_at    9.882590e-45     0.008935368     0.0121577424     1.202901e-03\n",
        "239677_at    3.416619e-68     0.146631939     0.5916584712     6.698649e-02\n",
        "244482_at    7.917642e-44     0.504353800     0.9208004899     1.473901e-01\n"
       ]
      }
     ],
     "prompt_number": 18
    },
    {
     "cell_type": "markdown",
     "metadata": {},
     "source": [
      "**We pick only p values smaller than .05 because we want p values that are statistically significant.**\n",
      "\n"
     ]
    },
    {
     "cell_type": "code",
     "collapsed": false,
     "input": [
      "%%R\n",
      "\n",
      "disease_state_G4 = p.adjust(fit_1$p.value[, 2]) < 0.05\n",
      "disease_state_SHH = p.adjust(fit_1$p.value[, 3]) < 0.05\n",
      "disease_state_WNT= p.adjust(fit_1$p.value[, 4]) < 0.05\n",
      "\n",
      "disease_eset_G4 = gender_disease_eset[disease_state_G4, ] \n",
      "disease_eset_SHH = gender_disease_eset[disease_state_SHH, ] \n",
      "disease_eset_WNT = gender_disease_eset[disease_state_WNT, ] "
     ],
     "language": "python",
     "metadata": {},
     "outputs": [],
     "prompt_number": 19
    },
    {
     "cell_type": "markdown",
     "metadata": {},
     "source": [
      "**The SHH subgroup has only two differentially expressed genes when controlling for gender and compared to G3.**\n",
      "\n",
      "We generate a heatmap for these two differentially expressed genes across the 73 individuals selected and then save the heatmap as a png."
     ]
    },
    {
     "cell_type": "code",
     "collapsed": false,
     "input": [
      "%%R\n",
      "\n",
      "color.map = function(group){ if(group==\"subgroup: WNT\"){\"#FF0000\"}\n",
      "                             else if(group==\"subgroup: SHH\"){\"#00FF00\"}\n",
      "                             else if(group==\"subgroup: G3\"){\"#FFCC00\"}\n",
      "                             else{\"#0000FF\"} }\n",
      "                                 \n",
      "patientcolors = unlist(lapply(disease_eset_SHH$disease.state, color.map))\n",
      "                                \n",
      "png(file = \"../visualizations/SHH.png\")\n",
      "heatmap.2(exprs(disease_eset_SHH), col=topo.colors(100), scale=\"none\", ColSideColors=patientcolors,\n",
      "          key=TRUE, symkey=FALSE, density.info=\"none\", trace=\"none\", cexRow=.9, xlab='Patients', ylab='Genes', offsetRow=-0.5, offsetCol=-0.5, main='SHH vs. G3 Gene Expression')\n",
      "dev.off()"
     ],
     "language": "python",
     "metadata": {},
     "outputs": [],
     "prompt_number": 28
    },
    {
     "cell_type": "code",
     "collapsed": false,
     "input": [
      "from IPython.core.display import Image\n",
      "Image(filename=\"../visualizations/SHH.png\", width=485)\n"
     ],
     "language": "python",
     "metadata": {},
     "outputs": [
      {
       "metadata": {
        "png": {
         "width": 485
        }
       },
       "output_type": "pyout",
       "png": "[encoded data removed]",
       "prompt_number": 29,
       "text": [
        "<IPython.core.display.Image at 0x198ca10>"
       ]
      }
     ],
     "prompt_number": 29
    },
    {
     "cell_type": "markdown",
     "metadata": {},
     "source": [
      "**The WNT subgroup has the most differentially expressed genes when controlling for gender and compared to G3 at 17 differentially expressed genes.**\n",
      "\n",
      "We generate a heatmap for these 17 differentially expressed genes across the 73 individuals selected and then save the heatmap as a png."
     ]
    },
    {
     "cell_type": "code",
     "collapsed": false,
     "input": [
      "%%R\n",
      "\n",
      "png(file = \"../visualizations/WNT.png\")\n",
      "heatmap.2(exprs(disease_eset_WNT), col=topo.colors(100), scale=\"none\", ColSideColors=patientcolors,\n",
      "          key=TRUE, symkey=FALSE, density.info=\"none\", trace=\"none\", cexRow=.9, xlab='Patients', ylab='Genes', offsetRow=-0.5, offsetCol=-0.5, main='WNT vs. G3 Gene Expression')\n",
      "dev.off()"
     ],
     "language": "python",
     "metadata": {},
     "outputs": [],
     "prompt_number": 26
    },
    {
     "cell_type": "code",
     "collapsed": false,
     "input": [
      "from IPython.core.display import Image\n",
      "Image(filename=\"../visualizations/WNT.png\", width=485)"
     ],
     "language": "python",
     "metadata": {},
     "outputs": [
      {
       "metadata": {
        "png": {
         "width": 485
        }
       },
       "output_type": "pyout",
       "png": "[encoded data removed]",
       "prompt_number": 27,
       "text": [
        "<IPython.core.display.Image at 0x454fd10>"
       ]
      }
     ],
     "prompt_number": 27
    },
    {
     "cell_type": "markdown",
     "metadata": {},
     "source": [
      "**The G4 subgroup has no differentially expressed genes when controlling for gender and compared to G3 so it is impossible to generate a heatmap for it.**"
     ]
    },
    {
     "cell_type": "code",
     "collapsed": false,
     "input": [
      "%%R\n",
      "\n",
      "heatmap.2(exprs(disease_eset_G4), col=topo.colors(100), scale=\"none\", ColSideColors=patientcolors,\n",
      "          key=TRUE, symkey=FALSE, density.info=\"none\", trace=\"none\", cexRow=.9)\n"
     ],
     "language": "python",
     "metadata": {},
     "outputs": [
      {
       "output_type": "stream",
       "stream": "stdout",
       "text": [
        "Error in heatmap.2(exprs(disease_eset_G4), col = topo.colors(100), scale = \"none\",  : \n",
        "  `x' must have at least 2 rows and 2 columns\n"
       ]
      }
     ],
     "prompt_number": 24
    },
    {
     "cell_type": "code",
     "collapsed": false,
     "input": [
      "%%R\n",
      "\n",
      "print(exprs(disease_eset_G4))"
     ],
     "language": "python",
     "metadata": {},
     "outputs": [
      {
       "metadata": {},
       "output_type": "display_data",
       "text": [
        "     GSM918603 GSM918641 GSM918580 GSM918593 GSM918625 GSM918638 GSM918642\n",
        "     GSM918643 GSM918619 GSM918621 GSM918582 GSM918649 GSM918651 GSM918607\n",
        "     GSM918609 GSM918608 GSM918606 GSM918620 GSM918586 GSM918594 GSM918600\n",
        "     GSM918601 GSM918612 GSM918614 GSM918629 GSM918587 GSM918588 GSM918589\n",
        "     GSM918611 GSM918624 GSM918637 GSM918639 GSM918640 GSM918636 GSM918590\n",
        "     GSM918610 GSM918615 GSM918616 GSM918632 GSM918647 GSM918578 GSM918579\n",
        "     GSM918581 GSM918584 GSM918591 GSM918592 GSM918597 GSM918598 GSM918599\n",
        "     GSM918604 GSM918605 GSM918613 GSM918623 GSM918626 GSM918627 GSM918633\n",
        "     GSM918634 GSM918635 GSM918645 GSM918646 GSM918648 GSM918650 GSM918652\n",
        "     GSM918653 GSM918622 GSM918583 GSM918585 GSM918595 GSM918596 GSM918602\n",
        "     GSM918617 GSM918630 GSM918631\n"
       ]
      }
     ],
     "prompt_number": 25
    },
    {
     "cell_type": "code",
     "collapsed": false,
     "input": [],
     "language": "python",
     "metadata": {},
     "outputs": []
    }
   ],
   "metadata": {}
  }
 ]
}