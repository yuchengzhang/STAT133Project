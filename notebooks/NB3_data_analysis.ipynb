{
 "metadata": {
  "name": ""
 },
 "nbformat": 3,
 "nbformat_minor": 0,
 "worksheets": [
  {
   "cells": [
    {
     "cell_type": "markdown",
     "metadata": {},
     "source": [
      "##Team members responsible for this notebook:\n",
      "\n",
      "* team member 1 **Yucheng Zhang** - found differentially expressed genes between male and female and helped with heatmaps, analyzed differential gene expression across subgroups to find different which if any of the subgroups are dependent on gender\n",
      "\n",
      "\n",
      "* team member 2 **Renee Rao** - found differentially expressed genes between male and female and helped with heatmaps\n",
      "\n",
      "\n",
      "* team member 3 **Rebeccah Lavelle Terhune** - found differentially expressed genes between male and female and helped with heatmaps\n",
      "\n",
      "\n",
      "* team member 4 **Philip Hong** - found differentially expressed genes between male and female and helped with heatmaps\n"
     ]
    },
    {
     "cell_type": "heading",
     "level": 1,
     "metadata": {},
     "source": [
      "Data Analysis"
     ]
    },
    {
     "cell_type": "markdown",
     "metadata": {},
     "source": [
      "**Load rmagic**"
     ]
    },
    {
     "cell_type": "code",
     "collapsed": false,
     "input": [
      "%load_ext rmagic"
     ],
     "language": "python",
     "metadata": {},
     "outputs": [],
     "prompt_number": 1
    },
    {
     "cell_type": "markdown",
     "metadata": {},
     "source": [
      "**Loading the saved expression set**"
     ]
    },
    {
     "cell_type": "code",
     "collapsed": false,
     "input": [
      "%%R\n",
      "\n",
      "library(pvca)\n",
      "\n",
      "load(\"../data/cleaned/bio_eset.Rda\")"
     ],
     "language": "python",
     "metadata": {},
     "outputs": [
      {
       "output_type": "stream",
       "stream": "stdout",
       "text": [
        "Error in library(pvca) : there is no package called \u2018pvca\u2019\n"
       ]
      }
     ],
     "prompt_number": 2
    },
    {
     "cell_type": "markdown",
     "metadata": {},
     "source": [
      "**Make sure the expression set loaded correctly**"
     ]
    },
    {
     "cell_type": "code",
     "collapsed": false,
     "input": [
      "%%R\n",
      "\n",
      "print(bio_eset)"
     ],
     "language": "python",
     "metadata": {},
     "outputs": [
      {
       "output_type": "stream",
       "stream": "stdout",
       "text": [
        "Error in print(bio_eset) : object 'bio_eset' not found\n"
       ]
      }
     ],
     "prompt_number": 3
    },
    {
     "cell_type": "markdown",
     "metadata": {},
     "source": [
      "**Create gender expression set by taking only the gender variable label from the entire expression set**"
     ]
    },
    {
     "cell_type": "code",
     "collapsed": false,
     "input": [
      "%%R\n",
      "\n",
      "gender_eset = bio_eset[, bio_eset$gender %in% c('female', 'male')]"
     ],
     "language": "python",
     "metadata": {},
     "outputs": [
      {
       "output_type": "stream",
       "stream": "stdout",
       "text": [
        "Error in eval(expr, envir, enclos) : object 'bio_eset' not found\n"
       ]
      }
     ],
     "prompt_number": 4
    },
    {
     "cell_type": "markdown",
     "metadata": {},
     "source": [
      "**Install limma package of bioconductor so we can analyze the expression set**"
     ]
    },
    {
     "cell_type": "code",
     "collapsed": false,
     "input": [
      "%%R\n",
      "\n",
      "source(\"http://www.bioconductor.org/biocLite.R\")\n",
      "biocLite(\"limma\")"
     ],
     "language": "python",
     "metadata": {},
     "outputs": [
      {
       "metadata": {},
       "output_type": "display_data",
       "text": [
        "Bioconductor version 2.13 (BiocInstaller 1.12.0), ?biocLite for help\n",
        "trying URL 'http://bioconductor.org/packages/2.13/bioc/bin/macosx/contrib/3.0/BiocInstaller_1.12.1.tgz'\n",
        "Content type 'application/x-gzip' length 46919 bytes (45 Kb)\n",
        "opened URL\n",
        "==================================================\n",
        "downloaded 45 Kb\n",
        "\n",
        "\n",
        "The downloaded binary packages are in\n",
        "\t/var/folders/sb/v0y0jl4s7b37_dsycl5w_dhh0000gn/T//Rtmpc3iIxH/downloaded_packages\n",
        "Bioconductor version 2.13 (BiocInstaller 1.12.1), ?biocLite for help\n",
        "A newer version of Bioconductor is available after installing a new version of\n",
        "  R, ?BiocUpgrade for help\n",
        "'BiocInstaller' updated to version 1.12.1\n",
        "BioC_mirror: http://bioconductor.org\n",
        "Using Bioconductor version 2.13 (BiocInstaller 1.12.1), R version 3.0.3.\n",
        "Installing package(s) 'limma'\n",
        "trying URL 'http://bioconductor.org/packages/2.13/bioc/bin/macosx/contrib/3.0/limma_3.18.13.tgz'\n",
        "Content type 'application/x-gzip' length 1573372 bytes (1.5 Mb)\n",
        "opened URL\n",
        "==================================================\n",
        "downloaded 1.5 Mb\n",
        "\n",
        "\n",
        "The downloaded binary packages are in\n",
        "\t/var/folders/sb/v0y0jl4s7b37_dsycl5w_dhh0000gn/T//Rtmpc3iIxH/downloaded_packages\n"
       ]
      }
     ],
     "prompt_number": 5
    },
    {
     "cell_type": "markdown",
     "metadata": {},
     "source": [
      "**Load the limma package in order to compare differentially expressed genes between male and female with lmFit and then use eBayes to produce a Bayes test statistic for each gene using male as the baseline**\n",
      "\n",
      "* the limma package reqruies Biobase and GEOquery"
     ]
    },
    {
     "cell_type": "code",
     "collapsed": false,
     "input": [
      "%%R\n",
      "\n",
      "library(limma)\n",
      "library(Biobase)\n",
      "library(GEOquery)\n",
      "\n",
      "f = factor(as.character(gender_eset$gender))\n",
      "design = model.matrix(~f)\n",
      "fit = eBayes(lmFit(gender_eset, design))"
     ],
     "language": "python",
     "metadata": {},
     "outputs": [
      {
       "output_type": "stream",
       "stream": "stdout",
       "text": [
        "Loading required package: BiocGenerics\n",
        "Loading required package: parallel\n",
        "\n",
        "Attaching package: \u2018BiocGenerics\u2019\n",
        "\n",
        "The following objects are masked from \u2018package:parallel\u2019:\n",
        "\n",
        "    clusterApply, clusterApplyLB, clusterCall, clusterEvalQ,\n",
        "    clusterExport, clusterMap, parApply, parCapply, parLapply,\n",
        "    parLapplyLB, parRapply, parSapply, parSapplyLB\n",
        "\n",
        "The following object is masked from \u2018package:limma\u2019:\n",
        "\n",
        "    plotMA\n",
        "\n",
        "The following object is masked from \u2018package:stats\u2019:\n",
        "\n",
        "    xtabs\n",
        "\n",
        "The following objects are masked from \u2018package:base\u2019:\n",
        "\n",
        "    anyDuplicated, append, as.data.frame, as.vector, cbind, colnames,\n",
        "    duplicated, eval, evalq, Filter, Find, get, intersect, is.unsorted,\n",
        "    lapply, Map, mapply, match, mget, order, paste, pmax, pmax.int,\n",
        "    pmin, pmin.int, Position, rank, rbind, Reduce, rep.int, rownames,\n",
        "    sapply, setdiff, sort, table, tapply, union, unique, unlist\n",
        "\n",
        "Welcome to Bioconductor\n",
        "\n",
        "    Vignettes contain introductory material; view with\n",
        "    'browseVignettes()'. To cite Bioconductor, see\n",
        "    'citation(\"Biobase\")', and for packages 'citation(\"pkgname\")'.\n",
        "\n",
        "Setting options('download.file.method.GEOquery'='auto')\n",
        "Error in factor(as.character(gender_eset$gender)) : \n",
        "  object 'gender_eset' not found\n"
       ]
      }
     ],
     "prompt_number": 6
    },
    {
     "cell_type": "markdown",
     "metadata": {},
     "source": [
      "**Taking a look at our p values**"
     ]
    },
    {
     "cell_type": "code",
     "collapsed": false,
     "input": [
      "%%R\n",
      "\n",
      "print(fit$p.value)"
     ],
     "language": "python",
     "metadata": {},
     "outputs": [
      {
       "output_type": "stream",
       "stream": "stdout",
       "text": [
        "Error in print(fit$p.value) : object 'fit' not found\n"
       ]
      }
     ],
     "prompt_number": 7
    },
    {
     "cell_type": "markdown",
     "metadata": {},
     "source": [
      "**Select genes that have a P value smaller than 0.01**"
     ]
    },
    {
     "cell_type": "code",
     "collapsed": false,
     "input": [
      "%%R\n",
      "\n",
      "selected = p.adjust(fit$p.value[, 2]) < 0.01\n",
      "eset_selected = gender_eset[selected, ] "
     ],
     "language": "python",
     "metadata": {},
     "outputs": [
      {
       "output_type": "stream",
       "stream": "stdout",
       "text": [
        "Error in p.adjust(fit$p.value[, 2]) : object 'fit' not found\n"
       ]
      }
     ],
     "prompt_number": 8
    },
    {
     "cell_type": "markdown",
     "metadata": {},
     "source": [
      "**Install gplots package of bioconductor so that we can use heatmap.2 to give a key to our heatmap**"
     ]
    },
    {
     "cell_type": "code",
     "collapsed": false,
     "input": [
      "%%R\n",
      "\n",
      "biocLite(\"gplots\")"
     ],
     "language": "python",
     "metadata": {},
     "outputs": [
      {
       "metadata": {},
       "output_type": "display_data",
       "text": [
        "BioC_mirror: http://bioconductor.org\n",
        "Using Bioconductor version 2.13 (BiocInstaller 1.12.1), R version 3.0.3.\n",
        "Installing package(s) 'gplots'\n",
        "also installing the dependencies \u2018gtools\u2019, \u2018gdata\u2019, \u2018caTools\u2019\n",
        "\n",
        "trying URL 'http://cran.fhcrc.org/bin/macosx/contrib/3.0/gtools_3.3.1.tgz'\n",
        "Content type 'application/x-gzip' length 106103 bytes (103 Kb)\n",
        "opened URL\n",
        "==================================================\n",
        "downloaded 103 Kb\n",
        "\n",
        "trying URL 'http://cran.fhcrc.org/bin/macosx/contrib/3.0/gdata_2.13.3.tgz'\n",
        "Content type 'application/x-gzip' length 788251 bytes (769 Kb)\n",
        "opened URL\n",
        "==================================================\n",
        "downloaded 769 Kb\n",
        "\n",
        "trying URL 'http://cran.fhcrc.org/bin/macosx/contrib/3.0/caTools_1.16.tgz'\n",
        "Content type 'application/x-gzip' length 168657 bytes (164 Kb)\n",
        "opened URL\n",
        "==================================================\n",
        "downloaded 164 Kb\n",
        "\n",
        "trying URL 'http://cran.fhcrc.org/bin/macosx/contrib/3.0/gplots_2.13.0.tgz'\n",
        "Content type 'application/x-gzip' length 473225 bytes (462 Kb)\n",
        "opened URL\n",
        "==================================================\n",
        "downloaded 462 Kb\n",
        "\n",
        "\n",
        "The downloaded binary packages are in\n",
        "\t/var/folders/sb/v0y0jl4s7b37_dsycl5w_dhh0000gn/T//Rtmpc3iIxH/downloaded_packages\n"
       ]
      }
     ],
     "prompt_number": 9
    },
    {
     "cell_type": "markdown",
     "metadata": {},
     "source": [
      "**Create a heatmap comparing gene expression levels between male and females, also color code for which subjects are male (red) and which are female (blue) then save the heatmap in ../visualizations**\n",
      "\n",
      "* we need to load gplots to access heatmap.2 which will let us add the key"
     ]
    },
    {
     "cell_type": "code",
     "collapsed": false,
     "input": [
      "%%R\n",
      "\n",
      "library(gplots)\n",
      "\n",
      "color.map = function(gender){ if(gender==\"female\") \"#FF0000\" else \"#0000FF\" }\n",
      "patientcolors = unlist(lapply(eset_selected$gender, color.map))\n",
      "    \n",
      "png(file = \"../visualizations/malefemale.png\")\n",
      "heatmap.2(exprs(eset_selected), col=topo.colors(100), scale=\"none\", ColSideColors=patientcolors,\n",
      "          key=TRUE, symkey=FALSE, density.info=\"none\", trace=\"none\", cexRow=.9)\n",
      "dev.off()"
     ],
     "language": "python",
     "metadata": {},
     "outputs": [
      {
       "output_type": "stream",
       "stream": "stdout",
       "text": [
        "KernSmooth 2.23 loaded\n",
        "Copyright M. P. Wand 1997-2009\n",
        "\n",
        "Attaching package: \u2018gplots\u2019\n",
        "\n",
        "The following object is masked from \u2018package:stats\u2019:\n",
        "\n",
        "    lowess\n",
        "\n",
        "Error in unlist(lapply(eset_selected$gender, color.map)) : \n",
        "  error in evaluating the argument 'x' in selecting a method for function 'unlist': Error in lapply(eset_selected$gender, color.map) : \n",
        "  error in evaluating the argument 'X' in selecting a method for function 'lapply': Error: object 'eset_selected' not found\n"
       ]
      }
     ],
     "prompt_number": 10
    },
    {
     "cell_type": "code",
     "collapsed": false,
     "input": [
      "%%R\n",
      "\n",
      "install.packages(\"png\")"
     ],
     "language": "python",
     "metadata": {},
     "outputs": [
      {
       "metadata": {},
       "output_type": "display_data",
       "text": [
        "--- Please select a CRAN mirror for use in this session ---\n",
        "trying URL 'http://cran.cnr.Berkeley.edu/bin/macosx/contrib/3.0/png_0.1-7.tgz'\n",
        "Content type 'application/x-gzip' length 238278 bytes (232 Kb)\n",
        "opened URL\n",
        "==================================================\n",
        "downloaded 232 Kb\n",
        "\n",
        "\n",
        "The downloaded binary packages are in\n",
        "\t/var/folders/sb/v0y0jl4s7b37_dsycl5w_dhh0000gn/T//Rtmpc3iIxH/downloaded_packages\n"
       ]
      }
     ],
     "prompt_number": 11
    },
    {
     "cell_type": "markdown",
     "metadata": {},
     "source": [
      "**Need to install imagemagick in order to be able to use EBImage to open png files**\n",
      "\n",
      "* sudo apt-get install libmagickwand-dev imagemagick\n",
      "\n",
      "*installed in terminal because it prompts for user input*\n",
      "\n",
      "**Installed EBImage package**"
     ]
    },
    {
     "cell_type": "code",
     "collapsed": false,
     "input": [
      "%%R\n",
      "\n",
      "biocLite(\"EBImage\")"
     ],
     "language": "python",
     "metadata": {},
     "outputs": [
      {
       "metadata": {},
       "output_type": "display_data",
       "text": [
        "BioC_mirror: http://bioconductor.org\n",
        "Using Bioconductor version 2.13 (BiocInstaller 1.12.1), R version 3.0.3.\n",
        "Installing package(s) 'EBImage'\n",
        "also installing the dependencies \u2018abind\u2019, \u2018tiff\u2019, \u2018jpeg\u2019, \u2018locfit\u2019\n",
        "\n",
        "trying URL 'http://cran.cnr.Berkeley.edu/bin/macosx/contrib/3.0/abind_1.4-0.tgz'\n",
        "Content type 'application/x-gzip' length 32962 bytes (32 Kb)\n",
        "opened URL\n",
        "==================================================\n",
        "downloaded 32 Kb\n",
        "\n",
        "trying URL 'http://cran.cnr.Berkeley.edu/bin/macosx/contrib/3.0/tiff_0.1-5.tgz'\n",
        "Content type 'application/x-gzip' length 665186 bytes (649 Kb)\n",
        "opened URL\n",
        "==================================================\n",
        "downloaded 649 Kb\n",
        "\n",
        "trying URL 'http://cran.cnr.Berkeley.edu/bin/macosx/contrib/3.0/jpeg_0.1-8.tgz'\n",
        "Content type 'application/x-gzip' length 310514 bytes (303 Kb)\n",
        "opened URL\n",
        "==================================================\n",
        "downloaded 303 Kb\n",
        "\n",
        "trying URL 'http://cran.cnr.Berkeley.edu/bin/macosx/contrib/3.0/locfit_1.5-9.1.tgz'\n",
        "Content type 'application/x-gzip' length 535316 bytes (522 Kb)\n",
        "opened URL\n",
        "==================================================\n",
        "downloaded 522 Kb\n",
        "\n",
        "trying URL 'http://bioconductor.org/packages/2.13/bioc/bin/macosx/contrib/3.0/EBImage_4.4.0.tgz'\n",
        "Content type 'application/x-gzip' length 4164721 bytes (4.0 Mb)\n",
        "opened URL\n",
        "==================================================\n",
        "downloaded 4.0 Mb\n",
        "\n",
        "\n",
        "The downloaded binary packages are in\n",
        "\t/var/folders/sb/v0y0jl4s7b37_dsycl5w_dhh0000gn/T//Rtmpc3iIxH/downloaded_packages\n"
       ]
      }
     ],
     "prompt_number": 12
    },
    {
     "cell_type": "markdown",
     "metadata": {},
     "source": [
      "**Load EBI image and open up our male female heatmap**"
     ]
    },
    {
     "cell_type": "code",
     "collapsed": false,
     "input": [
      "%%R\n",
      "\n",
      "library(EBImage)\n",
      "\n",
      "plot.new()\n",
      "malefemale = readImage(\"../visualizations/malefemale.png\")\n",
      "display(malefemale)"
     ],
     "language": "python",
     "metadata": {},
     "outputs": [
      {
       "metadata": {},
       "output_type": "display_data",
       "text": [
        "\n",
        "Attaching package: \u2018EBImage\u2019\n",
        "\n",
        "The following object is masked from \u2018package:Biobase\u2019:\n",
        "\n",
        "    channel\n",
        "\n"
       ]
      },
      {
       "metadata": {},
       "output_type": "display_data",
       "png": "[encoded data removed]"
      }
     ],
     "prompt_number": 13
    },
    {
     "cell_type": "markdown",
     "metadata": {},
     "source": [
      "**Let's see if the differentially expressed genes we chose based on gender are also differentially expressed in terms of disease state.**"
     ]
    },
    {
     "cell_type": "code",
     "collapsed": false,
     "input": [
      "%%R\n",
      "\n",
      "print(eset_selected)"
     ],
     "language": "python",
     "metadata": {},
     "outputs": [
      {
       "output_type": "stream",
       "stream": "stdout",
       "text": [
        "Error in print(eset_selected) : object 'eset_selected' not found\n"
       ]
      }
     ],
     "prompt_number": 14
    },
    {
     "cell_type": "markdown",
     "metadata": {},
     "source": [
      "**We don't care about outliers or people that cannot be grouped into a disease state**"
     ]
    },
    {
     "cell_type": "code",
     "collapsed": false,
     "input": [
      "%%R\n",
      "\n",
      "gender_disease_eset = eset_selected[, eset_selected$disease.state %in% c('subgroup: WNT', 'subgroup: SHH', 'subgroup: G3', 'subgroup: G4')]"
     ],
     "language": "python",
     "metadata": {},
     "outputs": [
      {
       "output_type": "stream",
       "stream": "stdout",
       "text": [
        "Error in eval(expr, envir, enclos) : object 'eset_selected' not found\n"
       ]
      }
     ],
     "prompt_number": 15
    },
    {
     "cell_type": "markdown",
     "metadata": {},
     "source": [
      "**Check that we only got the disease state groups we wanted**"
     ]
    },
    {
     "cell_type": "code",
     "collapsed": false,
     "input": [
      "%%R\n",
      "\n",
      "print(eset_selected$disease.state[-c(19, 75, 76)])"
     ],
     "language": "python",
     "metadata": {},
     "outputs": [
      {
       "output_type": "stream",
       "stream": "stdout",
       "text": [
        "Error in print(eset_selected$disease.state[-c(19, 75, 76)]) : \n",
        "  object 'eset_selected' not found\n"
       ]
      }
     ],
     "prompt_number": 16
    },
    {
     "cell_type": "markdown",
     "metadata": {},
     "source": [
      "**Let's first see if male and female appear to be grouped anyway by disease state**"
     ]
    },
    {
     "cell_type": "code",
     "collapsed": false,
     "input": [
      "%%R\n",
      "\n",
      "males = eset_selected[, eset_selected$gender == 'male']\n",
      "males = males[, males$disease.state %in% c('subgroup: WNT', 'subgroup: SHH', 'subgroup: G3', 'subgroup: G4')]\n",
      "\n",
      "females = eset_selected[, eset_selected$gender == 'female']\n",
      "females = females[, females$disease.state %in% c('subgroup: WNT', 'subgroup: SHH', 'subgroup: G3', 'subgroup: G4')]"
     ],
     "language": "python",
     "metadata": {},
     "outputs": [
      {
       "output_type": "stream",
       "stream": "stdout",
       "text": [
        "Error in eval(expr, envir, enclos) : object 'eset_selected' not found\n"
       ]
      }
     ],
     "prompt_number": 17
    },
    {
     "cell_type": "code",
     "collapsed": false,
     "input": [
      "%%R\n",
      "\n",
      "print(gender_disease_eset$disease.state)"
     ],
     "language": "python",
     "metadata": {},
     "outputs": [
      {
       "output_type": "stream",
       "stream": "stdout",
       "text": [
        "Error in print(gender_disease_eset$disease.state) : \n",
        "  object 'gender_disease_eset' not found\n"
       ]
      }
     ],
     "prompt_number": 18
    },
    {
     "cell_type": "markdown",
     "metadata": {},
     "source": [
      "**It looks like only one female is in G3 while only few males are in WNT, so let's test for differential gene expression based on G3**"
     ]
    },
    {
     "cell_type": "code",
     "collapsed": false,
     "input": [
      "%%R\n",
      "\n",
      "print(females$disease.state)\n",
      "print(males$disease.state)"
     ],
     "language": "python",
     "metadata": {},
     "outputs": [
      {
       "output_type": "stream",
       "stream": "stdout",
       "text": [
        "Error in print(females$disease.state) : object 'females' not found\n"
       ]
      }
     ],
     "prompt_number": 19
    },
    {
     "cell_type": "markdown",
     "metadata": {},
     "source": [
      "**Finding differentially expressed genes based on disease state subgroups for genes that we already know are differentially expressed based on gender**"
     ]
    },
    {
     "cell_type": "markdown",
     "metadata": {},
     "source": [
      "Using G3 as the baseline"
     ]
    },
    {
     "cell_type": "code",
     "collapsed": false,
     "input": [
      "%%R\n",
      "\n",
      "f_1 = factor(as.character(eset_selected$disease.state[-c(19, 75, 76)])) \n",
      "design_1 = model.matrix(~f_1)\n",
      "fit_1 = eBayes(lmFit(gender_disease_eset, design_1))"
     ],
     "language": "python",
     "metadata": {},
     "outputs": [
      {
       "output_type": "stream",
       "stream": "stdout",
       "text": [
        "Error in factor(as.character(eset_selected$disease.state[-c(19, 75, 76)])) : \n",
        "  object 'eset_selected' not found\n"
       ]
      }
     ],
     "prompt_number": 20
    },
    {
     "cell_type": "markdown",
     "metadata": {},
     "source": [
      "**Taking a look at our p values**\n",
      "\n",
      "* as expected patients in the WNT subgroup seemed to have the most differentially expressed genes when compared to a G3 baseline, suggesting that the WNT and G3 subgroups of medulloblastomas are linked to gender"
     ]
    },
    {
     "cell_type": "code",
     "collapsed": false,
     "input": [
      "%%R\n",
      "\n",
      "print(fit_1$p.value)"
     ],
     "language": "python",
     "metadata": {},
     "outputs": [
      {
       "output_type": "stream",
       "stream": "stdout",
       "text": [
        "Error in print(fit_1$p.value) : object 'fit_1' not found\n"
       ]
      }
     ],
     "prompt_number": 21
    },
    {
     "cell_type": "markdown",
     "metadata": {},
     "source": [
      "**We pick only p values smaller than .05**"
     ]
    },
    {
     "cell_type": "code",
     "collapsed": false,
     "input": [
      "%%R\n",
      "\n",
      "disease_state_G4 = p.adjust(fit_1$p.value[, 2]) < 0.05\n",
      "disease_state_SHH = p.adjust(fit_1$p.value[, 3]) < 0.05\n",
      "disease_state_WNT= p.adjust(fit_1$p.value[, 4]) < 0.05\n",
      "\n",
      "disease_eset_G4 = gender_disease_eset[disease_state_G4, ] \n",
      "disease_eset_SHH = gender_disease_eset[disease_state_SHH, ] \n",
      "disease_eset_WNT = gender_disease_eset[disease_state_WNT, ] "
     ],
     "language": "python",
     "metadata": {},
     "outputs": [
      {
       "output_type": "stream",
       "stream": "stdout",
       "text": [
        "Error in p.adjust(fit_1$p.value[, 2]) : object 'fit_1' not found\n"
       ]
      }
     ],
     "prompt_number": 22
    },
    {
     "cell_type": "markdown",
     "metadata": {},
     "source": [
      "**The SHH subgroup has only two differentially expressed genes when controlling for gender.**\n",
      "\n",
      "* We generate a heatmap for these two differentially expressed genes across the 73 individuals selected and then save the heatmap as a png."
     ]
    },
    {
     "cell_type": "code",
     "collapsed": false,
     "input": [
      "%%R\n",
      "\n",
      "color.map = function(group){ if(group==\"subgroup: WNT\"){\"#FF0000\"}\n",
      "                             else if(group==\"subgroup: SHH\"){\"#00FF00\"}\n",
      "                             else if(group==\"subgroup: G3\"){\"#FFCC00\"}\n",
      "                             else{\"#0000FF\"} }\n",
      "                                 \n",
      "patientcolors = unlist(lapply(disease_eset_SHH$disease.state, color.map))\n",
      "                                \n",
      "png(file = \"../visualizations/SHH.png\")\n",
      "heatmap.2(exprs(disease_eset_SHH), col=topo.colors(100), scale=\"none\", ColSideColors=patientcolors,\n",
      "          key=TRUE, symkey=FALSE, density.info=\"none\", trace=\"none\", cexRow=.9)\n",
      "dev.off()"
     ],
     "language": "python",
     "metadata": {},
     "outputs": [
      {
       "output_type": "stream",
       "stream": "stdout",
       "text": [
        "Error in unlist(lapply(disease_eset_SHH$disease.state, color.map)) : \n",
        "  error in evaluating the argument 'x' in selecting a method for function 'unlist': Error in lapply(disease_eset_SHH$disease.state, color.map) : \n",
        "  error in evaluating the argument 'X' in selecting a method for function 'lapply': Error: object 'disease_eset_SHH' not found\n"
       ]
      }
     ],
     "prompt_number": 23
    },
    {
     "cell_type": "code",
     "collapsed": false,
     "input": [
      "%%R\n",
      "\n",
      "plot.new()\n",
      "SHH = readImage(\"../visualizations/SHH.png\")\n",
      "display(SHH)"
     ],
     "language": "python",
     "metadata": {},
     "outputs": [
      {
       "metadata": {},
       "output_type": "display_data",
       "png": "[encoded data removed]"
      }
     ],
     "prompt_number": 24
    },
    {
     "cell_type": "markdown",
     "metadata": {},
     "source": [
      "**The WNT subgroup has the most differentially expressed genes when controlling for gender at 17 differentially expressed genes.**\n",
      "\n",
      "* We generate a heatmap for these 17 differentially expressed genes across the 73 individuals selected and then save the heatmap as a png."
     ]
    },
    {
     "cell_type": "code",
     "collapsed": false,
     "input": [
      "%%R\n",
      "\n",
      "png(file = \"../visualizations/WNT.png\")\n",
      "heatmap.2(exprs(disease_eset_WNT), col=topo.colors(100), scale=\"none\", ColSideColors=patientcolors,\n",
      "          key=TRUE, symkey=FALSE, density.info=\"none\", trace=\"none\", cexRow=.9)\n",
      "dev.off()"
     ],
     "language": "python",
     "metadata": {},
     "outputs": [
      {
       "output_type": "stream",
       "stream": "stdout",
       "text": [
        "Error in exprs(disease_eset_WNT) : \n",
        "  error in evaluating the argument 'object' in selecting a method for function 'exprs': Error: object 'disease_eset_WNT' not found\n"
       ]
      }
     ],
     "prompt_number": 25
    },
    {
     "cell_type": "code",
     "collapsed": false,
     "input": [
      "%%R\n",
      "\n",
      "plot.new()\n",
      "WNT = readImage(\"../visualizations/WNT.png\")\n",
      "display(WNT)"
     ],
     "language": "python",
     "metadata": {},
     "outputs": [
      {
       "metadata": {},
       "output_type": "display_data",
       "png": "[encoded data removed]"
      }
     ],
     "prompt_number": 26
    },
    {
     "cell_type": "markdown",
     "metadata": {},
     "source": [
      "**The G4 subgroup has no differentially expressed genes when controlling for gender.**"
     ]
    },
    {
     "cell_type": "code",
     "collapsed": false,
     "input": [
      "%%R\n",
      "\n",
      "heatmap.2(exprs(disease_eset_G4), col=topo.colors(100), scale=\"none\", ColSideColors=patientcolors,\n",
      "          key=TRUE, symkey=FALSE, density.info=\"none\", trace=\"none\", cexRow=.9)\n"
     ],
     "language": "python",
     "metadata": {},
     "outputs": [
      {
       "output_type": "stream",
       "stream": "stdout",
       "text": [
        "Error in exprs(disease_eset_G4) : \n",
        "  error in evaluating the argument 'object' in selecting a method for function 'exprs': Error: object 'disease_eset_G4' not found\n"
       ]
      }
     ],
     "prompt_number": 27
    },
    {
     "cell_type": "code",
     "collapsed": false,
     "input": [
      "%%R\n",
      "\n",
      "print(exprs(disease_eset_G4))"
     ],
     "language": "python",
     "metadata": {},
     "outputs": [
      {
       "output_type": "stream",
       "stream": "stdout",
       "text": [
        "Error in exprs(disease_eset_G4) : \n",
        "  error in evaluating the argument 'object' in selecting a method for function 'exprs': Error: object 'disease_eset_G4' not found\n"
       ]
      }
     ],
     "prompt_number": 28
    }
   ],
   "metadata": {}
  }
 ]
}