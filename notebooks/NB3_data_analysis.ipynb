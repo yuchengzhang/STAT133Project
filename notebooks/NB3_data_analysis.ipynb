{
 "metadata": {
  "name": ""
 },
 "nbformat": 3,
 "nbformat_minor": 0,
 "worksheets": [
  {
   "cells": [
    {
     "cell_type": "markdown",
     "metadata": {},
     "source": [
      "##Team members responsible for this notebook:\n",
      "\n",
      "* team member 1 **Yucheng Zhang** - found differentially expressed genes between male and female and helped with heatmaps\n",
      "\n",
      "\n",
      "* team member 2 **Renee Rao** - found differentially expressed genes between male and female and helped with heatmaps\n",
      "\n",
      "\n",
      "* team member 3 **Rebeccah Lavelle Terhune** - found differentially expressed genes between male and female and helped with heatmaps\n",
      "\n",
      "\n",
      "* team member 4 **Philip Hong** - found differentially expressed genes between male and female and helped with heatmaps\n"
     ]
    },
    {
     "cell_type": "heading",
     "level": 1,
     "metadata": {},
     "source": [
      "Data Analysis"
     ]
    },
    {
     "cell_type": "markdown",
     "metadata": {},
     "source": [
      "**Load rmagic**"
     ]
    },
    {
     "cell_type": "code",
     "collapsed": false,
     "input": [
      "%load_ext rmagic"
     ],
     "language": "python",
     "metadata": {},
     "outputs": [],
     "prompt_number": 1
    },
    {
     "cell_type": "markdown",
     "metadata": {},
     "source": [
      "**Load Biobase and GEOquery then use getGEO method of GEOquery to load bio_data.soft.gz into data, a S4 object**\n",
      "\n",
      "* the S4 class which is a set of facilities in R provided for object oriented programming, and highly used in bioconductor \n"
     ]
    },
    {
     "cell_type": "code",
     "collapsed": false,
     "input": [
      "%%R\n",
      "\n",
      "library(Biobase)\n",
      "library(GEOquery)\n",
      "\n",
      "bio_dir = '../data/raw/bio_data.soft.gz'\n",
      "data = getGEO(filename=bio_dir)"
     ],
     "language": "python",
     "metadata": {},
     "outputs": [
      {
       "metadata": {},
       "output_type": "display_data",
       "text": [
        "Loading required package: BiocGenerics\n",
        "Loading required package: parallel\n",
        "\n",
        "Attaching package: \u2018BiocGenerics\u2019\n",
        "\n",
        "The following objects are masked from \u2018package:parallel\u2019:\n",
        "\n",
        "    clusterApply, clusterApplyLB, clusterCall, clusterEvalQ,\n",
        "    clusterExport, clusterMap, parApply, parCapply, parLapply,\n",
        "    parLapplyLB, parRapply, parSapply, parSapplyLB\n",
        "\n",
        "The following object is masked from \u2018package:stats\u2019:\n",
        "\n",
        "    xtabs\n",
        "\n",
        "The following objects are masked from \u2018package:base\u2019:\n",
        "\n",
        "    anyDuplicated, append, as.data.frame, as.vector, cbind, colnames,\n",
        "    duplicated, eval, evalq, Filter, Find, get, intersect, is.unsorted,\n",
        "    lapply, Map, mapply, match, mget, order, paste, pmax, pmax.int,\n",
        "    pmin, pmin.int, Position, rank, rbind, Reduce, rep.int, rownames,\n",
        "    sapply, setdiff, sort, table, tapply, union, unique, unlist\n",
        "\n",
        "Welcome to Bioconductor\n",
        "\n",
        "    Vignettes contain introductory material; view with\n",
        "    'browseVignettes()'. To cite Bioconductor, see\n",
        "    'citation(\"Biobase\")', and for packages 'citation(\"pkgname\")'.\n",
        "\n",
        "Setting options('download.file.method.GEOquery'='curl')\n"
       ]
      }
     ],
     "prompt_number": 2
    },
    {
     "cell_type": "markdown",
     "metadata": {},
     "source": [
      "**Create expression set bio_eset from data**\n",
      "\n",
      "* we could not find a way to save the expression set so we had to recreate it in this notebook"
     ]
    },
    {
     "cell_type": "code",
     "collapsed": false,
     "input": [
      "%%R\n",
      "\n",
      "bio_eset = GDS2eSet(data, do.log2=TRUE)"
     ],
     "language": "python",
     "metadata": {},
     "outputs": [
      {
       "metadata": {},
       "output_type": "display_data",
       "text": [
        "File stored at: \n",
        "/tmp/RtmpeZBEyd/GPL570.annot.gz\n"
       ]
      }
     ],
     "prompt_number": 3
    },
    {
     "cell_type": "markdown",
     "metadata": {},
     "source": [
      "**Create gender expression set by taking only the gender variable label from the entire expression set**"
     ]
    },
    {
     "cell_type": "code",
     "collapsed": false,
     "input": [
      "%%R\n",
      "\n",
      "gender_eset = bio_eset[, bio_eset$gender %in% c('female', 'male')]"
     ],
     "language": "python",
     "metadata": {},
     "outputs": [],
     "prompt_number": 4
    },
    {
     "cell_type": "markdown",
     "metadata": {},
     "source": [
      "**Install limma package of bioconductor so we can analyze the expression set**"
     ]
    },
    {
     "cell_type": "code",
     "collapsed": false,
     "input": [
      "%%R\n",
      "\n",
      "source(\"http://www.bioconductor.org/biocLite.R\")\n",
      "biocLite(\"limma\")"
     ],
     "language": "python",
     "metadata": {},
     "outputs": [
      {
       "metadata": {},
       "output_type": "display_data",
       "text": [
        "Bioconductor version 2.13 (BiocInstaller 1.12.0), ?biocLite for help\n",
        "BioC_mirror: http://bioconductor.org\n",
        "Using Bioconductor version 2.13 (BiocInstaller 1.12.0), R version 3.0.3.\n",
        "Installing package(s) 'limma'\n",
        "trying URL 'http://bioconductor.org/packages/2.13/bioc/src/contrib/limma_3.18.13.tar.gz'\n",
        "Content type 'application/x-gzip' length 1048134 bytes (1023 Kb)\n",
        "opened URL\n",
        "==================================================\n",
        "downloaded 1023 Kb\n",
        "\n",
        "\n",
        "The downloaded source packages are in\n",
        "\t\u2018/tmp/RtmpeZBEyd/downloaded_packages\u2019\n"
       ]
      }
     ],
     "prompt_number": 6
    },
    {
     "cell_type": "markdown",
     "metadata": {},
     "source": [
      "**Load the limma package in order to compare differentially expressed genes between male and female with lmFit and then use eBayes to produce a Bayes test statistic for each gene**"
     ]
    },
    {
     "cell_type": "code",
     "collapsed": false,
     "input": [
      "%%R\n",
      "\n",
      "library(limma)\n",
      "\n",
      "f = factor(as.character(gender_eset$gender))\n",
      "design = model.matrix(~f)\n",
      "fit = eBayes(lmFit(gender_eset, design))\n",
      "\n",
      "print(topTable(fit, coef=2))"
     ],
     "language": "python",
     "metadata": {},
     "outputs": [
      {
       "metadata": {},
       "output_type": "display_data",
       "text": [
        "                     ID                                            Gene.title\n",
        "201909_at     201909_at                      ribosomal protein S4, Y-linked 1\n",
        "205000_at     205000_at    DEAD (Asp-Glu-Ala-Asp) box polypeptide 3, Y-linked\n",
        "206700_s_at 206700_s_at                    lysine (K)-specific demethylase 5D\n",
        "224588_at     224588_at   X inactive specific transcript (non-protein coding)\n",
        "224590_at     224590_at   X inactive specific transcript (non-protein coding)\n",
        "221728_x_at 221728_x_at   X inactive specific transcript (non-protein coding)\n",
        "228492_at     228492_at              ubiquitin specific peptidase 9, Y-linked\n",
        "227671_at     227671_at   X inactive specific transcript (non-protein coding)\n",
        "214218_s_at 214218_s_at   X inactive specific transcript (non-protein coding)\n",
        "204409_s_at 204409_s_at eukaryotic translation initiation factor 1A, Y-linked\n",
        "            Gene.symbol Gene.ID UniGene.title UniGene.symbol UniGene.ID\n",
        "201909_at        RPS4Y1    6192                                        \n",
        "205000_at         DDX3Y    8653                                        \n",
        "206700_s_at       KDM5D    8284                                        \n",
        "224588_at          XIST    7503                                        \n",
        "224590_at          XIST    7503                                        \n",
        "221728_x_at        XIST    7503                                        \n",
        "228492_at         USP9Y    8287                                        \n",
        "227671_at          XIST    7503                                        \n",
        "214218_s_at        XIST    7503                                        \n",
        "204409_s_at      EIF1AY    9086                                        \n",
        "                                                                                                                       Nucleotide.Title\n",
        "201909_at                                                                  Homo sapiens ribosomal protein S4, Y-linked 1 (RPS4Y1), mRNA\n",
        "205000_at                           Homo sapiens DEAD (Asp-Glu-Ala-Asp) box polypeptide 3, Y-linked (DDX3Y), transcript variant 2, mRNA\n",
        "206700_s_at                                         Homo sapiens lysine (K)-specific demethylase 5D (KDM5D), transcript variant 2, mRNA\n",
        "224588_at                         zp08h11.s1 Stratagene ovarian cancer (#937219) Homo sapiens cDNA clone IMAGE:595845 3-, mRNA sequence\n",
        "224590_at                                7e61e05.x1 Soares_NSF_F8_9W_OT_PA_P_S1 Homo sapiens cDNA clone IMAGE:3286976 3-, mRNA sequence\n",
        "221728_x_at                             af26f02.s1 Soares_total_fetus_Nb2HF8_9w Homo sapiens cDNA clone IMAGE:1032795 3-, mRNA sequence\n",
        "228492_at                                                               AV681765 GKB Homo sapiens cDNA clone GKBAKH05 5-, mRNA sequence\n",
        "227671_at                                                               AV646597 GLC Homo sapiens cDNA clone GLCAPB04 3-, mRNA sequence\n",
        "214218_s_at                                                             AV699347 GKC Homo sapiens cDNA clone GKCBPH07 3-, mRNA sequence\n",
        "204409_s_at Homo sapiens eukaryotic translation initiation factor 1A, Y-linked, mRNA (cDNA clone MGC:12282 IMAGE:3933718), complete cds\n",
        "                   GI GenBank.Accession Platform_CLONEID Platform_ORF\n",
        "201909_at    71164879         NM_001008                              \n",
        "205000_at   169881237         NM_004660                              \n",
        "206700_s_at 226442994         NM_004653                              \n",
        "224588_at     1745836          AA167449                              \n",
        "224590_at     9969228          BE644917                              \n",
        "221728_x_at   2540827          AA628440                              \n",
        "228492_at    10283628          AV681765                              \n",
        "227671_at     9867611          AV646597                              \n",
        "214218_s_at  10301318          AV699347                              \n",
        "204409_s_at  13528902          BC005248                              \n",
        "            Platform_SPOTID Chromosome.location\n",
        "201909_at                                Yp11.3\n",
        "205000_at                                  Yq11\n",
        "206700_s_at                                Yq11\n",
        "224588_at                                Xq13.2\n",
        "224590_at                                Xq13.2\n",
        "221728_x_at                              Xq13.2\n",
        "228492_at                                Yq11.2\n",
        "227671_at                                Xq13.2\n",
        "214218_s_at                              Xq13.2\n",
        "204409_s_at                            Yq11.223\n",
        "                                                  Chromosome.annotation\n",
        "201909_at                  Chromosome Y, NC_000024.9 (2709623..2734997)\n",
        "205000_at                Chromosome Y, NC_000024.9 (15016019..15032390)\n",
        "206700_s_at  Chromosome Y, NC_000024.9 (21867301..21906825, complement)\n",
        "224588_at   Chromosome X, NC_000023.10 (73040486..73072588, complement)\n",
        "224590_at   Chromosome X, NC_000023.10 (73040486..73072588, complement)\n",
        "221728_x_at Chromosome X, NC_000023.10 (73040486..73072588, complement)\n",
        "228492_at                Chromosome Y, NC_000024.9 (14813160..14972768)\n",
        "227671_at   Chromosome X, NC_000023.10 (73040486..73072588, complement)\n",
        "214218_s_at Chromosome X, NC_000023.10 (73040486..73072588, complement)\n",
        "204409_s_at              Chromosome Y, NC_000024.9 (22737611..22755040)\n",
        "                                                                                                                                                                                                                                                                                                                                                                                                                                        GO.Function\n",
        "201909_at                                                                                                                                                                                                                                                                                                                                                                           RNA binding///rRNA binding///structural constituent of ribosome\n",
        "205000_at                                                                                                                                                                                                                                                                                                                                                                 ATP binding///ATP-dependent helicase activity///DNA binding///RNA binding\n",
        "206700_s_at DNA binding///histone demethylase activity (H3-K4 specific)///molecular_function///oxidoreductase activity, acting on paired donors, with incorporation or reduction of molecular oxygen, 2-oxoglutarate as one donor, and incorporation of one atom each of oxygen into both donors///oxidoreductase activity, acting on single donors with incorporation of molecular oxygen, incorporation of two atoms of oxygen///zinc ion binding\n",
        "224588_at                                                                                                                                                                                                                                                                                                                                                                                                                                          \n",
        "224590_at                                                                                                                                                                                                                                                                                                                                                                                                                                          \n",
        "221728_x_at                                                                                                                                                                                                                                                                                                                                                                                                                                        \n",
        "228492_at                                                                                                                                                                                                                                                                                                              co-SMAD binding///cysteine-type peptidase activity///ubiquitin thiolesterase activity///ubiquitin-specific protease activity\n",
        "227671_at                                                                                                                                                                                                                                                                                                                                                                                                                                          \n",
        "214218_s_at                                                                                                                                                                                                                                                                                                                                                                                                                                        \n",
        "204409_s_at                                                                                                                                                                                                                                                                                                                                                                                protein binding///translation initiation factor activity\n",
        "                                                                                                                                                                                                                                                                                                                                                                                                                                                               GO.Process\n",
        "201909_at   RNA metabolic process///SRP-dependent cotranslational protein targeting to membrane///cellular protein metabolic process///gene expression///mRNA metabolic process///multicellular organismal development///nuclear-transcribed mRNA catabolic process, nonsense-mediated decay///translation///translation///translational elongation///translational initiation///translational termination///viral infectious cycle///viral process///viral transcription\n",
        "205000_at                                                                                                                                                                                                                                                                                                                                                                                                                                                                \n",
        "206700_s_at                                                                                                                                                                                                                                                                                                                                                                                                                 histone H3-K4 demethylation///spermatogenesis\n",
        "224588_at                                                                                                                                                                                                                                                                                                                                                                                                                                                                \n",
        "224590_at                                                                                                                                                                                                                                                                                                                                                                                                                                                                \n",
        "221728_x_at                                                                                                                                                                                                                                                                                                                                                                                                                                                              \n",
        "228492_at                                                                                                                                                                                                                                                                                 BMP signaling pathway///protein deubiquitination///spermatogenesis///transforming growth factor beta receptor signaling pathway///ubiquitin-dependent protein catabolic process\n",
        "227671_at                                                                                                                                                                                                                                                                                                                                                                                                                                                                \n",
        "214218_s_at                                                                                                                                                                                                                                                                                                                                                                                                                                                              \n",
        "204409_s_at                                                                                                                                                                                                                                                                                                                                                                                                                                                              \n",
        "                                                      GO.Component\n",
        "201909_at   cytosol///cytosolic small ribosomal subunit///polysome\n",
        "205000_at                                      cytoplasm///nucleus\n",
        "206700_s_at                           cellular_component///nucleus\n",
        "224588_at                                                         \n",
        "224590_at                                                         \n",
        "221728_x_at                                                       \n",
        "228492_at                                                cytoplasm\n",
        "227671_at                                                         \n",
        "214218_s_at                                                       \n",
        "204409_s_at                                                       \n",
        "                                                                         GO.Function.ID\n",
        "201909_at                                          GO:0003723///GO:0019843///GO:0003735\n",
        "205000_at                             GO:0005524///GO:0008026///GO:0003677///GO:0003723\n",
        "206700_s_at GO:0003677///GO:0032453///GO:0003674///GO:0016706///GO:0016702///GO:0008270\n",
        "224588_at                                                                              \n",
        "224590_at                                                                              \n",
        "221728_x_at                                                                            \n",
        "228492_at                             GO:0070410///GO:0008234///GO:0004221///GO:0004843\n",
        "227671_at                                                                              \n",
        "214218_s_at                                                                            \n",
        "204409_s_at                                                     GO:0005515///GO:0003743\n",
        "                                                                                                                                                                                               GO.Process.ID\n",
        "201909_at   GO:0016070///GO:0006614///GO:0044267///GO:0010467///GO:0016071///GO:0007275///GO:0000184///GO:0006412///GO:0006412///GO:0006414///GO:0006413///GO:0006415///GO:0019058///GO:0016032///GO:0019083\n",
        "205000_at                                                                                                                                                                                                   \n",
        "206700_s_at                                                                                                                                                                          GO:0034720///GO:0007283\n",
        "224588_at                                                                                                                                                                                                   \n",
        "224590_at                                                                                                                                                                                                   \n",
        "221728_x_at                                                                                                                                                                                                 \n",
        "228492_at                                                                                                                                     GO:0030509///GO:0016579///GO:0007283///GO:0007179///GO:0006511\n",
        "227671_at                                                                                                                                                                                                   \n",
        "214218_s_at                                                                                                                                                                                                 \n",
        "204409_s_at                                                                                                                                                                                                 \n",
        "                                 GO.Component.ID      logFC  AveExpr         t\n",
        "201909_at   GO:0005829///GO:0022627///GO:0005844  1.2133490 2.805267  27.23195\n",
        "205000_at                GO:0005737///GO:0005634  1.1198149 2.662534  24.09635\n",
        "206700_s_at              GO:0005575///GO:0005634  0.9281921 2.497675  22.70541\n",
        "224588_at                                        -1.2565863 2.374414 -18.84680\n",
        "224590_at                                        -1.0764458 2.135451 -18.13994\n",
        "221728_x_at                                      -1.0966994 2.324549 -17.84966\n",
        "228492_at                             GO:0005737  0.9073558 2.510601  17.30428\n",
        "227671_at                                        -1.0444901 2.324972 -16.99075\n",
        "214218_s_at                                      -1.0181132 2.257599 -16.93839\n",
        "204409_s_at                                       0.8836463 2.439978  15.49406\n",
        "                 P.Value    adj.P.Val        B\n",
        "201909_at   1.860828e-41 1.017408e-36 66.92499\n",
        "205000_at   9.128076e-38 2.495388e-33 61.85168\n",
        "206700_s_at 5.223292e-36 9.519449e-32 59.27901\n",
        "224588_at   1.094914e-30 1.496610e-26 50.90923\n",
        "224590_at   1.236270e-29 1.351861e-25 49.15600\n",
        "221728_x_at 3.403207e-29 3.101173e-25 48.41460\n",
        "228492_at   2.344997e-28 1.831610e-24 46.98707\n",
        "227671_at   7.231066e-28 4.941982e-24 46.14567\n",
        "214218_s_at 8.737451e-28 5.308001e-24 46.00367\n",
        "204409_s_at 1.850801e-25 1.011925e-21 41.91427\n"
       ]
      }
     ],
     "prompt_number": 13
    },
    {
     "cell_type": "markdown",
     "metadata": {},
     "source": [
      "**Select genes that have a P value smaller than 0.01**"
     ]
    },
    {
     "cell_type": "code",
     "collapsed": false,
     "input": [
      "%%R\n",
      "\n",
      "selected = p.adjust(fit$p.value[, 2]) < 0.01\n",
      "eset_selected = gender_eset[selected, ] "
     ],
     "language": "python",
     "metadata": {},
     "outputs": [],
     "prompt_number": 19
    },
    {
     "cell_type": "markdown",
     "metadata": {},
     "source": [
      "**Install gplots package of bioconductor so that we can use heatmap.2 to give a key to our heatmap**"
     ]
    },
    {
     "cell_type": "code",
     "collapsed": false,
     "input": [
      "%%R\n",
      "\n",
      "biocLite(\"gplots\")"
     ],
     "language": "python",
     "metadata": {},
     "outputs": [
      {
       "metadata": {},
       "output_type": "display_data",
       "text": [
        "BioC_mirror: http://bioconductor.org\n",
        "Using Bioconductor version 2.13 (BiocInstaller 1.12.0), R version 3.0.3.\n",
        "Installing package(s) 'gplots'\n",
        "also installing the dependencies \u2018gtools\u2019, \u2018gdata\u2019, \u2018caTools\u2019\n",
        "\n",
        "trying URL 'http://cran.fhcrc.org/src/contrib/gtools_3.3.1.tar.gz'\n",
        "Content type 'application/x-gzip' length 54766 bytes (53 Kb)\n",
        "opened URL\n",
        "==================================================\n",
        "downloaded 53 Kb\n",
        "\n",
        "trying URL 'http://cran.fhcrc.org/src/contrib/gdata_2.13.3.tar.gz'\n",
        "Content type 'application/x-gzip' length 717134 bytes (700 Kb)\n",
        "opened URL\n",
        "==================================================\n",
        "downloaded 700 Kb\n",
        "\n",
        "trying URL 'http://cran.fhcrc.org/src/contrib/caTools_1.16.tar.gz'\n",
        "Content type 'application/x-gzip' length 63331 bytes (61 Kb)\n",
        "opened URL\n",
        "==================================================\n",
        "downloaded 61 Kb\n",
        "\n",
        "trying URL 'http://cran.fhcrc.org/src/contrib/gplots_2.13.0.tar.gz'\n",
        "Content type 'application/x-gzip' length 380211 bytes (371 Kb)\n",
        "opened URL\n",
        "==================================================\n",
        "downloaded 371 Kb\n",
        "\n",
        "\n",
        "The downloaded source packages are in\n",
        "\t\u2018/tmp/RtmpeZBEyd/downloaded_packages\u2019\n"
       ]
      }
     ],
     "prompt_number": 22
    },
    {
     "cell_type": "markdown",
     "metadata": {},
     "source": [
      "**Create a heatmap comparing gene expression levels between male and females, also color code for which subjects are male (red) and which are female (blue) then save the heatmap in ../visualizations**\n",
      "\n",
      "* we need to load gplots to access heatmap.2 which will let us add the key"
     ]
    },
    {
     "cell_type": "code",
     "collapsed": false,
     "input": [
      "%%R\n",
      "\n",
      "library(gplots)\n",
      "\n",
      "color.map = function(gender){ if(gender==\"female\") \"#FF0000\" else \"#0000FF\" }\n",
      "patientcolors = unlist(lapply(eset_selected$gender, color.map))\n",
      "    \n",
      "png(file = \"../visualizations/malefemale.png\")\n",
      "heatmap.2(exprs(eset_selected), col=topo.colors(100), scale=\"none\", ColSideColors=patientcolors,\n",
      "          key=TRUE, symkey=FALSE, density.info=\"none\", trace=\"none\", cexRow=.9)\n",
      "dev.off()"
     ],
     "language": "python",
     "metadata": {},
     "outputs": [],
     "prompt_number": 38
    },
    {
     "cell_type": "code",
     "collapsed": false,
     "input": [
      "%%R\n",
      "\n",
      "install.packages(\"png\")"
     ],
     "language": "python",
     "metadata": {},
     "outputs": [
      {
       "metadata": {},
       "output_type": "display_data",
       "text": [
        "Installing package into \u2018/home/oski/R/x86_64-pc-linux-gnu-library/3.0\u2019\n",
        "(as \u2018lib\u2019 is unspecified)\n",
        "--- Please select a CRAN mirror for use in this session ---\n",
        "trying URL 'http://cran.stat.ucla.edu/src/contrib/png_0.1-7.tar.gz'\n",
        "Content type 'application/x-tar' length 24990 bytes (24 Kb)\n",
        "opened URL\n",
        "==================================================\n",
        "downloaded 24 Kb\n",
        "\n",
        "\n",
        "The downloaded source packages are in\n",
        "\t\u2018/tmp/RtmpeZBEyd/downloaded_packages\u2019\n"
       ]
      }
     ],
     "prompt_number": 39
    },
    {
     "cell_type": "markdown",
     "metadata": {},
     "source": [
      "**Need to install imagemagick in order to be able to use EBImage to open png files**\n",
      "\n",
      "* sudo apt-get install libmagickwand-dev imagemagick\n",
      "\n",
      "*installed in terminal because it prompts for user input*\n",
      "\n",
      "**Installed EBImage package**"
     ]
    },
    {
     "cell_type": "code",
     "collapsed": false,
     "input": [
      "%%R\n",
      "\n",
      "biocLite(\"EBImage\")"
     ],
     "language": "python",
     "metadata": {},
     "outputs": [
      {
       "metadata": {},
       "output_type": "display_data",
       "text": [
        "BioC_mirror: http://bioconductor.org\n",
        "Using Bioconductor version 2.13 (BiocInstaller 1.12.0), R version 3.0.3.\n",
        "Installing package(s) 'EBImage'\n",
        "also installing the dependency \u2018tiff\u2019\n",
        "\n",
        "trying URL 'http://cran.stat.ucla.edu/src/contrib/tiff_0.1-5.tar.gz'\n",
        "Content type 'application/x-tar' length 28925 bytes (28 Kb)\n",
        "opened URL\n",
        "==================================================\n",
        "downloaded 28 Kb\n",
        "\n",
        "trying URL 'http://bioconductor.org/packages/2.13/bioc/src/contrib/EBImage_4.4.0.tar.gz'\n",
        "Content type 'application/x-gzip' length 4026518 bytes (3.8 Mb)\n",
        "opened URL\n",
        "==================================================\n",
        "downloaded 3.8 Mb\n",
        "\n",
        "\n",
        "The downloaded source packages are in\n",
        "\t\u2018/tmp/RtmpeZBEyd/downloaded_packages\u2019\n"
       ]
      }
     ],
     "prompt_number": 55
    },
    {
     "cell_type": "markdown",
     "metadata": {},
     "source": [
      "**Load EBI image and open up our male female heatmap**"
     ]
    },
    {
     "cell_type": "code",
     "collapsed": false,
     "input": [
      "%%R\n",
      "\n",
      "library(EBImage)\n",
      "\n",
      "plot.new()\n",
      "malefemale = readImage(\"../visualizations/malefemale.png\")\n",
      "display(malefemale)"
     ],
     "language": "python",
     "metadata": {},
     "outputs": [
      {
       "metadata": {},
       "output_type": "display_data",
       "text": [
        "\n",
        "Attaching package: \u2018EBImage\u2019\n",
        "\n",
        "The following object is masked from \u2018package:Biobase\u2019:\n",
        "\n",
        "    channel\n",
        "\n"
       ]
      },
      {
       "metadata": {},
       "output_type": "display_data",
       "png": "[encoded data removed]"
      }
     ],
     "prompt_number": 56
    },
    {
     "cell_type": "code",
     "collapsed": false,
     "input": [],
     "language": "python",
     "metadata": {},
     "outputs": []
    }
   ],
   "metadata": {}
  }
 ]
}