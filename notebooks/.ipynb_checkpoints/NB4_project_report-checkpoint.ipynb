{
 "metadata": {
  "name": ""
 },
 "nbformat": 3,
 "nbformat_minor": 0,
 "worksheets": [
  {
   "cells": [
    {
     "cell_type": "markdown",
     "metadata": {},
     "source": [
      "In this notebook, you'll sumarize your finding for the class presentation. \n",
      "\n",
      "\n",
      "The class presentation will use this notebook in slide mode, as I do during lecture time.\n",
      "\n",
      "You'll need to download the following [zip file](https://github.com/fperez/nb-slideshow-template/archive/master.zip), unzip it, and run the following notebook <code>install-support.ipynb</code> to install the slide capabilities.\n",
      "\n",
      "The notebook <code>notebook-slideshow-example.ipynb</code> will give you examples on how to use slides within the iPython notebook.  \n",
      "\n",
      "You should also write this notebook so that you can convert it nicely into a pdf document using the commands\n",
      "\n",
      "    ipython nbconvert NB4_report.pynb --to latex\n",
      "    pdflatex NB4_report.tex\n",
      "    \n",
      "See [here](http://ipython.org/ipython-doc/rel-1.0.0/interactive/nbconvert.html) for further references on how to do that. \n",
      "\n",
      "In this notebook, you'll\n",
      "\n",
      "* describe your problem as stated in the propectus \n",
      " \n",
      " \n",
      "* comment on your data sources, on their format, on the difficulties to get them\n",
      "\n",
      "\n",
      "* present the main challenge you encountered\n",
      "\n",
      "\n",
      "* present your finding in the form of expresive graphics\n",
      "\n",
      "Be sure to include an introduction section motivating your visualizations, with a description of the substantive context and why it is interesting.\n",
      "\n",
      "\n",
      "Cite the source of the data and any other references that you used in carrying out your project.\n"
     ]
    },
    {
     "cell_type": "markdown",
     "metadata": {},
     "source": [
      "##Team members responsible for this notebook:\n",
      "\n",
      "* Team member 1: **Yucheng Zhang** - \n",
      "\n",
      "\n",
      "* Team member 2: **Rebeccah Lavelle Terhune** - \n",
      "\n",
      "\n",
      "* Team member 3: **Philip Hong** - \n",
      "\n",
      "\n",
      "* Team member 4: **Renee Rao** - \n"
     ]
    },
    {
     "cell_type": "heading",
     "level": 1,
     "metadata": {},
     "source": [
      "Problem"
     ]
    },
    {
     "cell_type": "markdown",
     "metadata": {},
     "source": [
      "We got our gene expression data from a study in which the the subtypes of cancer discovered by the original authors of the paper had significantly different gender distributions, especially across the WNT and G3 subtypes which were 75% female and 93.75% male, respectively. We wanted to isolate the gene cluster that is associated with the gender disparity between the molecular subgroups.\n",
      "\n",
      "Because differentially expressed genes may not affect actual clinical outcomes (i.e., type of Medulloblastoma), we first located genes that were differentially expressed between male and female patients, then out of these genes, we found the genes that were also differentially expressed between subgroups to ensure that the gene cluster we obtained was both significant between gender and disease subtype and actually affects clinical outcomes.  \n",
      "\n",
      "*Note: we only had data about 76 patients, 3 of which were either outliers or could not be subtyped. Furthermore, of the patients who could be subtyped 21 were female while 52 were male, so please take our results with a grain of salt.*"
     ]
    },
    {
     "cell_type": "heading",
     "level": 1,
     "metadata": {},
     "source": [
      "Difficulties with Data"
     ]
    },
    {
     "cell_type": "markdown",
     "metadata": {},
     "source": [
      "We wished to do a project using biological data but were unsure how to go about obtaining sufficiently a large dataset that was freely available for analysis, because of this, we decided to work with a gene expression data set, as many interesting data sets are available from the Gene Expression Omnibus repository of the National Center for Biotechnology Information\u2019s website which are amenable to analysis, as soft.gz files. \n",
      "\n",
      "It took our group a while to find a dataset that was of sufficient interest to all members before we settled on a study about gene expression levels in tumor tissue samples of patients with the brain cancer Medulloblastoma. \n",
      "Once we had chosen our topic, actually getting the data was fairly easy: we simply used the provided download link. \n",
      "\n",
      "* ftp://ftp.ncbi.nlm.nih.gov/geo/datasets/GDS4nnn/GDS4471/soft/GDS4471.soft.gz \n",
      "\n",
      "The format of the data did make it somewhat challenging to load as it had been designed to be analyzed with a very specific set of tools. Although we did create a <code>.csv</code> file of the data, some of the gene names were corrupted and we were unable to index through it by category (i.e. gender). However, once we obtained the required software and installed it properly, we were able to load and analyze our data with ease.\n",
      "\n",
      "The NCBI recommends using the software <code>Bioconductor</code> for analysis of this type of data set, as it was specifically designed for working with gene expression data sets and efficiently indexing through them, other <code>Bioconductor</code> packages we used to analyze our data included, <code>Biobase</code>, a necessary package for both <code>GEOquery</code>, and <code>limma</code>. <code>GEOquery</code>, was used to transform the <code>.soft</code> file into a <code>GDS</code> object, which gave us access to meta data and a table of our expression data and then used to transform our data from a GDS object to an expression set (<code>eset</code>) object, so that it could be analyzed using limma. <code>limma</code> was used to find differentially expressed genes between our chosen samples \n",
      " "
     ]
    },
    {
     "cell_type": "heading",
     "level": 1,
     "metadata": {},
     "source": [
      "Main Challenge"
     ]
    },
    {
     "cell_type": "markdown",
     "metadata": {},
     "source": [
      "The main challenge we encountered as a group was collectively understanding exactly what our dataset represented. For example, our data set contained gene expression information of tumors from various cancer patients, but it was not intuitively clear what the matrix of gene names and expression levels actually meant, which, correspondingly, made it harder to decide on an interesting question. \n",
      "\n",
      "Loading our data and properly installing Bioconductor proved to be the true bottleneck in our project though. We initially did not realize we had to use specialized software to load our <code>.soft</code> file and so we spent several hours loading it into a <code>.csv</code> file, only to lose key parts of the data set. We discovered that we needed <code>Bioconductor </code> to properly read and index through our dataset . However, it was quite a Sisyphean ordeal to install <code>Bioconductor</code> and its necessary packages, taking several days and a visit with the professor. \u201cMy God\u201d\n",
      "\n",
      "To get the necessary packages working, we first had to install <code>libcurl</code> and <code>r-cran-xml</code>, in order to get <code>GEOquery</code> working. This was particularly arduous as installation constantly failed across multiple Oskiboxes, we have the sublime opportunity to witness the natural enforcement of Murphy\u2019s Law.  \n",
      "However, once these problems were resolved, the only difficulties were determining what further packages were required to help analyze the data. (i.e. <code>gplots</code>, <code>pvca</code>."
     ]
    },
    {
     "cell_type": "heading",
     "level": 1,
     "metadata": {},
     "source": [
      "Presentation of Findings"
     ]
    },
    {
     "cell_type": "markdown",
     "metadata": {},
     "source": [
      "For those of you who may not remember their Intro to Biology class, all living things are made of cells. All cells have genes and depending on what that function that particular cell is carrying out, different genes will be translated into proteins. So even though all our cells contain our full genome, only certain parts of our genome will used within any single cell. Cancer cells, which are cells whose growth can no longer be controlled through normal cellular pathways, will translate a different set of genes into proteins than healthy cells will. By using a DNA microarray scientists are able to quantify which genes are being expressed within cells. The data we analyzed was the \u2018expression\u2019 or translation levels of over 54,000 genes (of which around 29,000 were unique) for 76 different tumors from patients with a form of cancer known as Medulloblastoma."
     ]
    },
    {
     "cell_type": "code",
     "collapsed": false,
     "input": [
      "%load_ext rmagic"
     ],
     "language": "python",
     "metadata": {},
     "outputs": [],
     "prompt_number": 1
    },
    {
     "cell_type": "code",
     "collapsed": false,
     "input": [
      "%%R\n",
      "\n",
      "c_names = paste('Patient', 1:3, sep=' ')\n",
      "r_names = paste('Gene', LETTERS[1:3], sep=' ')\n",
      "\n",
      "categories = c('High', 'Medium', 'Low')\n",
      "data = sample(categories, size=9, replace=TRUE, prob=c(1/3, 1/3, 1/3))\n",
      "\n",
      "df = data.frame(matrix(data, nrow=3), row.names=r_names)\n",
      "colnames(df) = c_names\n",
      "\n",
      "print(df)"
     ],
     "language": "python",
     "metadata": {},
     "outputs": [
      {
       "metadata": {},
       "output_type": "display_data",
       "text": [
        "       Patient 1 Patient 2 Patient 3\n",
        "Gene A      High      High       Low\n",
        "Gene B       Low    Medium       Low\n",
        "Gene C      High       Low       Low\n"
       ]
      }
     ],
     "prompt_number": 11
    },
    {
     "cell_type": "code",
     "collapsed": false,
     "input": [],
     "language": "python",
     "metadata": {},
     "outputs": []
    }
   ],
   "metadata": {}
  }
 ]
}