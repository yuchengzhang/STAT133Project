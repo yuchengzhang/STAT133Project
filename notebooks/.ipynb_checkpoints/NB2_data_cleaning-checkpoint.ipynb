{
 "metadata": {
  "name": ""
 },
 "nbformat": 3,
 "nbformat_minor": 0,
 "worksheets": [
  {
   "cells": [
    {
     "cell_type": "markdown",
     "metadata": {},
     "source": [
      "##Team members responsible for this notebook:\n",
      "\n",
      "\n",
      "* team member 1 **Yucheng Zhang** - made expression set and wrote markdown, saved eset as .Rda file\n",
      "* team member 2 **Renee Rao** - figured out limma and bioconductor\n",
      "* team member 3 **Philip Hong** - helped troubleshoot bioconductor and limma install\n",
      "* team member 4 **Rebeccah Lavelle Terhune** - helped troubleshoot bioconductor and limma install\n"
     ]
    },
    {
     "cell_type": "heading",
     "level": 1,
     "metadata": {},
     "source": [
      "Data Cleaning\n"
     ]
    },
    {
     "cell_type": "markdown",
     "metadata": {},
     "source": [
      "**Load rmagic**"
     ]
    },
    {
     "cell_type": "code",
     "collapsed": false,
     "input": [
      "%load_ext rmagic"
     ],
     "language": "python",
     "metadata": {},
     "outputs": [
      {
       "output_type": "stream",
       "stream": "stdout",
       "text": [
        "The rmagic extension is already loaded. To reload it, use:\n",
        "  %reload_ext rmagic\n"
       ]
      }
     ],
     "prompt_number": 14
    },
    {
     "cell_type": "markdown",
     "metadata": {},
     "source": [
      "(From Notebook 1)\n",
      "Load Biobase and GEOquery then use getGEO method of GEOquery to load bio_data.soft.gz into data, a S4 object\n",
      "\n",
      "* the S4 class which is a set of facilities in R provided for object oriented programming, and highly used in bioconductor "
     ]
    },
    {
     "cell_type": "code",
     "collapsed": false,
     "input": [
      "%%R\n",
      "\n",
      "library(Biobase)\n",
      "library(GEOquery)\n",
      "\n",
      "bio_dir = '../data/raw/bio_data.soft.gz'\n",
      "data = getGEO(filename=bio_dir)"
     ],
     "language": "python",
     "metadata": {},
     "outputs": [],
     "prompt_number": 15
    },
    {
     "cell_type": "heading",
     "level": 2,
     "metadata": {},
     "source": [
      "Creating an Expression Set Object"
     ]
    },
    {
     "cell_type": "markdown",
     "metadata": {},
     "source": [
      "Since we are primarily interested in expression data the tissue samples, we need to turn our GDS object into an expression set object in order to take advantage of the powerful tools Bioconductor provides to explore gene expression. To do this we used the built in GEOquery function \"GDS2eSet\" which extracts expression data from GDS objects. To make computations more efficent we used base 2 algorithms. "
     ]
    },
    {
     "cell_type": "code",
     "collapsed": false,
     "input": [
      "%%R\n",
      "\n",
      "bio_eset = GDS2eSet(data, do.log2=TRUE)"
     ],
     "language": "python",
     "metadata": {},
     "outputs": [
      {
       "metadata": {},
       "output_type": "display_data",
       "text": [
        "Using locally cached version of GPL570 found here:\n",
        "/var/folders/sb/v0y0jl4s7b37_dsycl5w_dhh0000gn/T//RtmpBcOQ8t/GPL570.annot.gz \n"
       ]
      }
     ],
     "prompt_number": 16
    },
    {
     "cell_type": "markdown",
     "metadata": {},
     "source": [
      "To ensure that the data was correctly converted we examined bio_eset below:"
     ]
    },
    {
     "cell_type": "markdown",
     "metadata": {},
     "source": [
      "First we simply viewed the object to make sure it was the right type"
     ]
    },
    {
     "cell_type": "code",
     "collapsed": false,
     "input": [
      "%%R\n",
      "print(bio_eset)"
     ],
     "language": "python",
     "metadata": {},
     "outputs": [
      {
       "metadata": {},
       "output_type": "display_data",
       "text": [
        "ExpressionSet (storageMode: lockedEnvironment)\n",
        "assayData: 54675 features, 76 samples \n",
        "  element names: exprs \n",
        "protocolData: none\n",
        "phenoData\n",
        "  sampleNames: GSM918603 GSM918641 ... GSM918644 (76 total)\n",
        "  varLabels: sample disease.state ... description (5 total)\n",
        "  varMetadata: labelDescription\n",
        "featureData\n",
        "  featureNames: 1007_s_at 1053_at ... AFFX-TrpnX-M_at (54675 total)\n",
        "  fvarLabels: ID Gene title ... GO:Component ID (21 total)\n",
        "  fvarMetadata: Column labelDescription\n",
        "experimentData: use 'experimentData(object)'\n",
        "  pubMedIds: 22722829 \n",
        "Annotation:  \n"
       ]
      }
     ],
     "prompt_number": 17
    },
    {
     "cell_type": "markdown",
     "metadata": {},
     "source": [
      "We then further checked to make sure data all of the data was correctly converted we retrieved several different values for genes and patients and checked that they matched with the original. An example for the for gene 1007_s_at of subject GSM918603 is below. All our data points matched the original set."
     ]
    },
    {
     "cell_type": "code",
     "collapsed": false,
     "input": [
      "%%R\n",
      "print(bio_eset[\"1007_s_at\", \"GSM918603\"])\n",
      "print(exprs(bio_eset[\"1007_s_at\", \"GSM918603\"]))"
     ],
     "language": "python",
     "metadata": {},
     "outputs": [
      {
       "metadata": {},
       "output_type": "display_data",
       "text": [
        "ExpressionSet (storageMode: lockedEnvironment)\n",
        "assayData: 1 features, 1 samples \n",
        "  element names: exprs \n",
        "protocolData: none\n",
        "phenoData\n",
        "  sampleNames: GSM918603\n",
        "  varLabels: sample disease.state ... description (5 total)\n",
        "  varMetadata: labelDescription\n",
        "featureData\n",
        "  featureNames: 1007_s_at\n",
        "  fvarLabels: ID Gene title ... GO:Component ID (21 total)\n",
        "  fvarMetadata: Column labelDescription\n",
        "experimentData: use 'experimentData(object)'\n",
        "  pubMedIds: 22722829 \n",
        "Annotation:  \n",
        "          GSM918603\n",
        "1007_s_at  2.757211\n"
       ]
      }
     ],
     "prompt_number": 18
    },
    {
     "cell_type": "heading",
     "level": 2,
     "metadata": {},
     "source": [
      "Saving the Cleaned File"
     ]
    },
    {
     "cell_type": "markdown",
     "metadata": {},
     "source": [
      "We installed the bioconductor package pvca which is required to save and load .Rda files, and then saved our cleaned and properly formatted data set within our oski boxes."
     ]
    },
    {
     "cell_type": "code",
     "collapsed": false,
     "input": [
      "%%R\n",
      "source(\"http://bioconductor.org/biocLite.R\")\n",
      "biocLite(\"pvca\")"
     ],
     "language": "python",
     "metadata": {},
     "outputs": [
      {
       "metadata": {},
       "output_type": "display_data",
       "text": [
        "Bioconductor version 2.13 (BiocInstaller 1.12.1), ?biocLite for help\n",
        "A newer version of Bioconductor is available after installing a new version of\n",
        "  R, ?BiocUpgrade for help\n",
        "BioC_mirror: http://bioconductor.org\n",
        "Using Bioconductor version 2.13 (BiocInstaller 1.12.1), R version 3.0.3.\n",
        "Installing package(s) 'pvca'\n",
        "also installing the dependencies \u2018Rcpp\u2019, \u2018minqa\u2019, \u2018RcppEigen\u2019, \u2018vsn\u2019, \u2018lme4\u2019\n",
        "\n",
        "trying URL 'http://cran.fhcrc.org/bin/macosx/contrib/3.0/Rcpp_0.11.1.tgz'\n",
        "Content type 'application/x-gzip' length 2503690 bytes (2.4 Mb)\n",
        "opened URL\n",
        "==================================================\n",
        "downloaded 2.4 Mb\n",
        "\n",
        "trying URL 'http://cran.fhcrc.org/bin/macosx/contrib/3.0/minqa_1.2.3.tgz'\n",
        "Content type 'application/x-gzip' length 427769 bytes (417 Kb)\n",
        "opened URL\n",
        "==================================================\n",
        "downloaded 417 Kb\n",
        "\n",
        "trying URL 'http://cran.fhcrc.org/bin/macosx/contrib/3.0/RcppEigen_0.3.2.1.1.tgz'\n",
        "Content type 'application/x-gzip' length 3358868 bytes (3.2 Mb)\n",
        "opened URL\n",
        "==================================================\n",
        "downloaded 3.2 Mb\n",
        "\n",
        "trying URL 'http://bioconductor.org/packages/2.13/bioc/bin/macosx/contrib/3.0/vsn_3.30.0.tgz'\n",
        "Content type 'application/x-gzip' length 1595448 bytes (1.5 Mb)\n",
        "opened URL\n",
        "==================================================\n",
        "downloaded 1.5 Mb\n",
        "\n",
        "trying URL 'http://cran.fhcrc.org/bin/macosx/contrib/3.0/lme4_1.1-6.tgz'\n",
        "Content type 'application/x-gzip' length 5298799 bytes (5.1 Mb)\n",
        "opened URL\n",
        "==================================================\n",
        "downloaded 5.1 Mb\n",
        "\n",
        "trying URL 'http://bioconductor.org/packages/2.13/bioc/bin/macosx/contrib/3.0/pvca_1.2.0.tgz'\n",
        "Content type 'application/x-gzip' length 133198 bytes (130 Kb)\n",
        "opened URL\n",
        "==================================================\n",
        "downloaded 130 Kb\n",
        "\n",
        "\n",
        "The downloaded binary packages are in\n",
        "\t/var/folders/sb/v0y0jl4s7b37_dsycl5w_dhh0000gn/T//RtmpBcOQ8t/downloaded_packages\n"
       ]
      }
     ],
     "prompt_number": 13
    },
    {
     "cell_type": "markdown",
     "metadata": {},
     "source": [
      "In the cell below we saved our expression set as a \".Rda\" file so that we can easily access our data for the remainder of the project. "
     ]
    },
    {
     "cell_type": "code",
     "collapsed": false,
     "input": [
      "%%R\n",
      "\n",
      "library(pvca)\n",
      "\n",
      "save(bio_eset, file=\"../data/cleaned/bio_eset.Rda\")"
     ],
     "language": "python",
     "metadata": {},
     "outputs": [],
     "prompt_number": 19
    }
   ],
   "metadata": {}
  }
 ]
}