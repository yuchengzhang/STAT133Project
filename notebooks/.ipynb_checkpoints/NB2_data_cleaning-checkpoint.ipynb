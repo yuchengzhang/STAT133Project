{
 "metadata": {
  "name": ""
 },
 "nbformat": 3,
 "nbformat_minor": 0,
 "worksheets": [
  {
   "cells": [
    {
     "cell_type": "markdown",
     "metadata": {},
     "source": [
      "##Team members responsible for this notebook:\n",
      "\n",
      "\n",
      "* team member 1 **Yucheng Zhang** - made expression set and wrote markdown, saved eset as .Rda file\n",
      "* team member 2 **Renee Rao** - figured out limma and bioconductor\n",
      "* team member 3 **Philip Hong** - helped troubleshoot bioconductor and limma install\n",
      "* team member 4 **Rebeccah Lavelle Terhune** - helped troubleshoot bioconductor and limma install\n"
     ]
    },
    {
     "cell_type": "heading",
     "level": 1,
     "metadata": {},
     "source": [
      "Data Cleaning\n"
     ]
    },
    {
     "cell_type": "markdown",
     "metadata": {},
     "source": [
      "**Load rmagic**"
     ]
    },
    {
     "cell_type": "code",
     "collapsed": false,
     "input": [
      "%load_ext rmagic"
     ],
     "language": "python",
     "metadata": {},
     "outputs": [],
     "prompt_number": 1
    },
    {
     "cell_type": "markdown",
     "metadata": {},
     "source": [
      "(From Notebook 1)\n",
      "Load <code>Biobase</code> and <code>GEOquery</code> then use <code>getGEO</code> method of <code>GEOquery</code> to load bio_data.soft.gz into <code>data</code>, an S4 object.\n",
      "\n",
      "* The S4 class is a set of facilities in R provided for object oriented programming, and is highly used in Bioconductor. "
     ]
    },
    {
     "cell_type": "code",
     "collapsed": false,
     "input": [
      "%%R\n",
      "\n",
      "library(Biobase)\n",
      "library(GEOquery)\n",
      "\n",
      "bio_dir = '../data/raw/bio_data.soft.gz'\n",
      "data = getGEO(filename=bio_dir)"
     ],
     "language": "python",
     "metadata": {},
     "outputs": [
      {
       "metadata": {},
       "output_type": "display_data",
       "text": [
        "Loading required package: BiocGenerics\n",
        "Loading required package: parallel\n",
        "\n",
        "Attaching package: \u2018BiocGenerics\u2019\n",
        "\n",
        "The following objects are masked from \u2018package:parallel\u2019:\n",
        "\n",
        "    clusterApply, clusterApplyLB, clusterCall, clusterEvalQ,\n",
        "    clusterExport, clusterMap, parApply, parCapply, parLapply,\n",
        "    parLapplyLB, parRapply, parSapply, parSapplyLB\n",
        "\n",
        "The following object is masked from \u2018package:stats\u2019:\n",
        "\n",
        "    xtabs\n",
        "\n",
        "The following objects are masked from \u2018package:base\u2019:\n",
        "\n",
        "    anyDuplicated, append, as.data.frame, as.vector, cbind, colnames,\n",
        "    do.call, duplicated, eval, evalq, Filter, Find, get, intersect,\n",
        "    is.unsorted, lapply, Map, mapply, match, mget, order, paste, pmax,\n",
        "    pmax.int, pmin, pmin.int, Position, rank, rbind, Reduce, rep.int,\n",
        "    rownames, sapply, setdiff, sort, table, tapply, union, unique,\n",
        "    unlist\n",
        "\n",
        "Welcome to Bioconductor\n",
        "\n",
        "    Vignettes contain introductory material; view with\n",
        "    'browseVignettes()'. To cite Bioconductor, see\n",
        "    'citation(\"Biobase\")', and for packages 'citation(\"pkgname\")'.\n",
        "\n",
        "Setting options('download.file.method.GEOquery'='curl')\n"
       ]
      }
     ],
     "prompt_number": 2
    },
    {
     "cell_type": "heading",
     "level": 2,
     "metadata": {},
     "source": [
      "Creating an Expression Set Object"
     ]
    },
    {
     "cell_type": "markdown",
     "metadata": {},
     "source": [
      "Since we are primarily interested in expression data for the tissue samples, we need to turn our GDS (GEO Dataset) object into an expression set object in order to take advantage of the powerful tools Bioconductor provides to explore gene expression. To do this we used the built in <code>GEOquery</code> function, <code>GDS2eSet</code>, which extracts expression data from GDS objects. To make computations more efficent, we used base two algorithms. "
     ]
    },
    {
     "cell_type": "code",
     "collapsed": false,
     "input": [
      "%%R\n",
      "\n",
      "bio_eset = GDS2eSet(data, do.log2=TRUE)"
     ],
     "language": "python",
     "metadata": {},
     "outputs": [
      {
       "metadata": {},
       "output_type": "display_data",
       "text": [
        "File stored at: \n",
        "/tmp/RtmpowW8QD/GPL570.annot.gz\n"
       ]
      }
     ],
     "prompt_number": 3
    },
    {
     "cell_type": "markdown",
     "metadata": {},
     "source": [
      "**To ensure that the data was correctly converted we examined <code>bio_eset</code> below:**"
     ]
    },
    {
     "cell_type": "markdown",
     "metadata": {},
     "source": [
      "First we viewed the object to make sure it was the right type."
     ]
    },
    {
     "cell_type": "code",
     "collapsed": false,
     "input": [
      "%%R\n",
      "\n",
      "print(bio_eset)"
     ],
     "language": "python",
     "metadata": {},
     "outputs": [
      {
       "metadata": {},
       "output_type": "display_data",
       "text": [
        "ExpressionSet (storageMode: lockedEnvironment)\n",
        "assayData: 54675 features, 76 samples \n",
        "  element names: exprs \n",
        "protocolData: none\n",
        "phenoData\n",
        "  sampleNames: GSM918603 GSM918641 ... GSM918644 (76 total)\n",
        "  varLabels: sample disease.state ... description (5 total)\n",
        "  varMetadata: labelDescription\n",
        "featureData\n",
        "  featureNames: 1007_s_at 1053_at ... AFFX-TrpnX-M_at (54675 total)\n",
        "  fvarLabels: ID Gene title ... GO:Component ID (21 total)\n",
        "  fvarMetadata: Column labelDescription\n",
        "experimentData: use 'experimentData(object)'\n",
        "  pubMedIds: 22722829 \n",
        "Annotation:  \n"
       ]
      }
     ],
     "prompt_number": 4
    },
    {
     "cell_type": "markdown",
     "metadata": {},
     "source": [
      "We then further checked to make sure that all of the data was converted correctly. To this end, we retrieved several expression values for different gene/patient pairs and checked that they matched with expression values in the original dataset. An example for the gene <code>1007_s_at</code> of subject <code>GSM918603</code> is below. All our data points matched the original set."
     ]
    },
    {
     "cell_type": "code",
     "collapsed": false,
     "input": [
      "%%R\n",
      "\n",
      "print(bio_eset[\"1007_s_at\", \"GSM918603\"])\n",
      "print(exprs(bio_eset[\"1007_s_at\", \"GSM918603\"]))"
     ],
     "language": "python",
     "metadata": {},
     "outputs": [
      {
       "metadata": {},
       "output_type": "display_data",
       "text": [
        "ExpressionSet (storageMode: lockedEnvironment)\n",
        "assayData: 1 features, 1 samples \n",
        "  element names: exprs \n",
        "protocolData: none\n",
        "phenoData\n",
        "  sampleNames: GSM918603\n",
        "  varLabels: sample disease.state ... description (5 total)\n",
        "  varMetadata: labelDescription\n",
        "featureData\n",
        "  featureNames: 1007_s_at\n",
        "  fvarLabels: ID Gene title ... GO:Component ID (21 total)\n",
        "  fvarMetadata: Column labelDescription\n",
        "experimentData: use 'experimentData(object)'\n",
        "  pubMedIds: 22722829 \n",
        "Annotation:  \n",
        "          GSM918603\n",
        "1007_s_at  2.757211\n"
       ]
      }
     ],
     "prompt_number": 5
    },
    {
     "cell_type": "heading",
     "level": 2,
     "metadata": {},
     "source": [
      "Saving the Cleaned File"
     ]
    },
    {
     "cell_type": "markdown",
     "metadata": {},
     "source": [
      "We installed the Bioconductor package <code>pvca</code> which is required to save and load R objects into .Rda files, and then saved our cleaned and properly formatted data set to the <code>../data/cleaned</code> directory within our project repository."
     ]
    },
    {
     "cell_type": "code",
     "collapsed": false,
     "input": [
      "%%R\n",
      "\n",
      "source(\"http://bioconductor.org/biocLite.R\")\n",
      "biocLite(\"pvca\")"
     ],
     "language": "python",
     "metadata": {},
     "outputs": [
      {
       "metadata": {},
       "output_type": "display_data",
       "text": [
        "Bioconductor version 2.13 (BiocInstaller 1.12.1), ?biocLite for help\n",
        "A newer version of Bioconductor is available after installing a new version of\n",
        "  R, ?BiocUpgrade for help\n",
        "BioC_mirror: http://bioconductor.org\n",
        "Using Bioconductor version 2.13 (BiocInstaller 1.12.1), R version 3.0.3.\n",
        "Installing package(s) 'pvca'\n",
        "also installing the dependencies \u2018Rcpp\u2019, \u2018minqa\u2019, \u2018RcppEigen\u2019, \u2018vsn\u2019, \u2018lme4\u2019\n",
        "\n",
        "trying URL 'http://cran.fhcrc.org/bin/macosx/contrib/3.0/Rcpp_0.11.1.tgz'\n",
        "Content type 'application/x-gzip' length 2503690 bytes (2.4 Mb)\n",
        "opened URL\n",
        "==================================================\n",
        "downloaded 2.4 Mb\n",
        "\n",
        "trying URL 'http://cran.fhcrc.org/bin/macosx/contrib/3.0/minqa_1.2.3.tgz'\n",
        "Content type 'application/x-gzip' length 427769 bytes (417 Kb)\n",
        "opened URL\n",
        "==================================================\n",
        "downloaded 417 Kb\n",
        "\n",
        "trying URL 'http://cran.fhcrc.org/bin/macosx/contrib/3.0/RcppEigen_0.3.2.1.1.tgz'\n",
        "Content type 'application/x-gzip' length 3358868 bytes (3.2 Mb)\n",
        "opened URL\n",
        "==================================================\n",
        "downloaded 3.2 Mb\n",
        "\n",
        "trying URL 'http://bioconductor.org/packages/2.13/bioc/bin/macosx/contrib/3.0/vsn_3.30.0.tgz'\n",
        "Content type 'application/x-gzip' length 1595448 bytes (1.5 Mb)\n",
        "opened URL\n",
        "==================================================\n",
        "downloaded 1.5 Mb\n",
        "\n",
        "trying URL 'http://cran.fhcrc.org/bin/macosx/contrib/3.0/lme4_1.1-6.tgz'\n",
        "Content type 'application/x-gzip' length 5298799 bytes (5.1 Mb)\n",
        "opened URL\n",
        "==================================================\n",
        "downloaded 5.1 Mb\n",
        "\n",
        "trying URL 'http://bioconductor.org/packages/2.13/bioc/bin/macosx/contrib/3.0/pvca_1.2.0.tgz'\n",
        "Content type 'application/x-gzip' length 133198 bytes (130 Kb)\n",
        "opened URL\n",
        "==================================================\n",
        "downloaded 130 Kb\n",
        "\n",
        "\n",
        "The downloaded binary packages are in\n",
        "\t/var/folders/sb/v0y0jl4s7b37_dsycl5w_dhh0000gn/T//RtmpBcOQ8t/downloaded_packages\n"
       ]
      }
     ],
     "prompt_number": 13
    },
    {
     "cell_type": "markdown",
     "metadata": {},
     "source": [
      "In the cell below we saved our expression set as a .Rda file so that we can easily access our data for the remainder of the project. "
     ]
    },
    {
     "cell_type": "code",
     "collapsed": false,
     "input": [
      "%%R\n",
      "\n",
      "library(pvca)\n",
      "\n",
      "save(bio_eset, file=\"../data/cleaned/bio_eset.Rda\")"
     ],
     "language": "python",
     "metadata": {},
     "outputs": [],
     "prompt_number": 6
    }
   ],
   "metadata": {}
  }
 ]
}