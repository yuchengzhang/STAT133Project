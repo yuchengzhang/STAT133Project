{
 "metadata": {
  "name": ""
 },
 "nbformat": 3,
 "nbformat_minor": 0,
 "worksheets": [
  {
   "cells": [
    {
     "cell_type": "markdown",
     "metadata": {},
     "source": [
      "# Installing the slideshow support\n",
      "\n",
      "**NOTE** The tools here require IPython 1.0, they do *not* work with\n",
      "IPython 0.13.2.\n",
      "\n",
      "You should only need to run this notebook *once*. \n",
      "\n",
      "It will install the slideshow tools in your IPython profile from github.  It's done in steps so you can debug it more easily if things go wrong.\n",
      "\n",
      "Start by getting the location of your current profile:"
     ]
    },
    {
     "cell_type": "code",
     "collapsed": false,
     "input": [
      "profile_dir = get_ipython().profile_dir.location\n",
      "profile_dir"
     ],
     "language": "python",
     "metadata": {},
     "outputs": [
      {
       "metadata": {},
       "output_type": "pyout",
       "prompt_number": 1,
       "text": [
        "u'/home/oski/.config/ipython/profile_default'"
       ]
      }
     ],
     "prompt_number": 1
    },
    {
     "cell_type": "markdown",
     "metadata": {},
     "source": [
      "Clone the [Github repo](https://github.com/ipython-contrib/IPython-notebook-extensions) with IPython extensions, including the slideshow support, into the right location:"
     ]
    },
    {
     "cell_type": "code",
     "collapsed": false,
     "input": [
      "import os\n",
      "tgt = os.path.join( profile_dir, 'static', 'custom')\n",
      "!git clone https://github.com/ipython-contrib/IPython-notebook-extensions.git $tgt"
     ],
     "language": "python",
     "metadata": {},
     "outputs": [
      {
       "output_type": "stream",
       "stream": "stdout",
       "text": [
        "fatal: destination path '/home/oski/.config/ipython/profile_default/static/custom' already exists and is not an empty directory.\r\n"
       ]
      }
     ],
     "prompt_number": 2
    },
    {
     "cell_type": "markdown",
     "metadata": {},
     "source": [
      "Let's `cd` into that directory and check that the contents look right:"
     ]
    },
    {
     "cell_type": "code",
     "collapsed": false,
     "input": [
      "%cd $tgt\n",
      "!ls"
     ],
     "language": "python",
     "metadata": {},
     "outputs": [
      {
       "output_type": "stream",
       "stream": "stdout",
       "text": [
        "/home/oski/.config/ipython/profile_default/static/custom\n",
        "custom.example.js    hierarchical_collapse.js  slidemode  usability\r\n",
        "custom.js\t     publishing\t\t       styling\t  wiki-images\r\n",
        "helper-functions.js  README.md\t\t       testing\r\n"
       ]
      }
     ],
     "prompt_number": 3
    },
    {
     "cell_type": "markdown",
     "metadata": {},
     "source": [
      "Finally, write out a `custom.js` file that has activated the slideshow extension.  This is simply the provided `custom.example.js` file, with two lines commented out. Feel free to add more to activate other extensions, as explained in the `README.md` file:"
     ]
    },
    {
     "cell_type": "code",
     "collapsed": false,
     "input": [
      "%%writefile custom.js\n",
      "// we want strict javascript that fails\n",
      "// on ambiguous syntax\n",
      "\"using strict\";\n",
      "\n",
      "// do not use notebook loaded  event as it is re-triggerd on\n",
      "// revert to checkpoint but this allow extesnsion to be loaded\n",
      "// late enough to work.\n",
      "//\n",
      "\n",
      "$([IPython.events]).on('app_initialized.NotebookApp', function(){\n",
      "\n",
      "\n",
      "    /**  Use path to js file relative to /static/ dir without leading slash, or\n",
      "     *  js extension.\n",
      "     *  Link directly to file is js extension.\n",
      "     *\n",
      "     *  first argument of require is a **list** that can contains several modules if needed.\n",
      "     **/\n",
      "\n",
      "    // require(['custom/noscroll']);\n",
      "    // require(['custom/clean_start'])\n",
      "    // require(['custom/toggle_all_line_number'])\n",
      "    // require(['custom/gist_it']);\n",
      "\n",
      "    /**\n",
      "     *  Link to entrypoint if extesnsion is a folder.\n",
      "     *  to be consistent with commonjs module, the entrypoint is main.js\n",
      "     *  here youcan also trigger a custom function on load that will do extra\n",
      "     *  action with the module if needed\n",
      "     **/\n",
      "     require(['custom/slidemode/main'],function(slidemode){\n",
      "    //     // do stuff\n",
      "     })\n",
      "\n",
      "});\n"
     ],
     "language": "python",
     "metadata": {},
     "outputs": [
      {
       "output_type": "stream",
       "stream": "stdout",
       "text": [
        "Overwriting custom.js\n"
       ]
      }
     ],
     "prompt_number": 4
    },
    {
     "cell_type": "markdown",
     "metadata": {},
     "source": [
      "That's it! You should now restart your notebook server and reload the pages just to make sure you get fresh CSS.  If everything went well, your toolbar should look like this, with a new button highlighted here in red:\n",
      "\n",
      "![img](files/toolbar-slideshow.png)\n",
      "\n",
      "That new button is the toggle to enter live slideshow mode, which you can use to switch between the normal editing mode (with the whole notebook as one long scrolling document) and the presentation mode.\n",
      "\n",
      "Now that you've read this, look at the accompanying `notebook-slideshow-example` notebook as a starting illustration of how you can write a presentation-oriented notebook."
     ]
    }
   ],
   "metadata": {}
  }
 ]
}